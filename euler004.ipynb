{
  "nbformat": 4,
  "nbformat_minor": 0,
  "metadata": {
    "colab": {
      "name": "euler004.ipynb",
      "version": "0.3.2",
      "provenance": [],
      "include_colab_link": true
    },
    "kernelspec": {
      "display_name": "Python 3",
      "language": "python",
      "name": "python3"
    }
  },
  "cells": [
    {
      "cell_type": "markdown",
      "metadata": {
        "id": "view-in-github",
        "colab_type": "text"
      },
      "source": [
        "<a href=\"https://colab.research.google.com/github/aemani/Python-Code-samples/blob/master/euler004.ipynb\" target=\"_parent\"><img src=\"https://colab.research.google.com/assets/colab-badge.svg\" alt=\"Open In Colab\"/></a>"
      ]
    },
    {
      "metadata": {
        "id": "N_UTJHYYFtNE",
        "colab_type": "text"
      },
      "cell_type": "markdown",
      "source": [
        "# Euler 4\n",
        "A palindromic number reads the same both ways. The largest palindrome made from the product of two 2-digit numbers is 9009 = 91 × 99.\n",
        "\n",
        "Find the largest palindrome made from the product of two 3-digit numbers."
      ]
    },
    {
      "metadata": {
        "id": "9zUlmbW0FtNH",
        "colab_type": "code",
        "colab": {}
      },
      "cell_type": "code",
      "source": [
        "def reverse(n):\n",
        "    r = 0\n",
        "    while n > 0:\n",
        "        r = r * 10 + n % 10\n",
        "        n //= 10\n",
        "    return r"
      ],
      "execution_count": 0,
      "outputs": []
    },
    {
      "metadata": {
        "id": "Sszgx_sUFtNP",
        "colab_type": "code",
        "outputId": "380cf2ae-f62f-4952-a72d-41c6d6aa11b1",
        "colab": {
          "base_uri": "https://localhost:8080/",
          "height": 34
        }
      },
      "cell_type": "code",
      "source": [
        "reverse(1876)"
      ],
      "execution_count": 0,
      "outputs": [
        {
          "output_type": "execute_result",
          "data": {
            "text/plain": [
              "6781"
            ]
          },
          "metadata": {
            "tags": []
          },
          "execution_count": 2
        }
      ]
    },
    {
      "metadata": {
        "id": "f3Yy4goNFtNV",
        "colab_type": "code",
        "colab": {}
      },
      "cell_type": "code",
      "source": [
        "def isPalindrome(n):\n",
        "    return n == reverse(n)"
      ],
      "execution_count": 0,
      "outputs": []
    },
    {
      "metadata": {
        "id": "QR0qpaFuFtNZ",
        "colab_type": "code",
        "outputId": "4b2f378f-5843-4270-9845-714504cd442e",
        "colab": {
          "base_uri": "https://localhost:8080/",
          "height": 34
        }
      },
      "cell_type": "code",
      "source": [
        "isPalindrome(17), isPalindrome(121)"
      ],
      "execution_count": 0,
      "outputs": [
        {
          "output_type": "execute_result",
          "data": {
            "text/plain": [
              "(False, True)"
            ]
          },
          "metadata": {
            "tags": []
          },
          "execution_count": 4
        }
      ]
    },
    {
      "metadata": {
        "id": "tB_AHFmxFtNk",
        "colab_type": "code",
        "outputId": "e42757ad-2d16-4b0a-c3f6-0980c9afece5",
        "colab": {
          "base_uri": "https://localhost:8080/",
          "height": 34
        }
      },
      "cell_type": "code",
      "source": [
        "largest = 0\n",
        "for first in range(100, 1000):\n",
        "    for second in range(100, 1000):\n",
        "        prod = first * second\n",
        "        if largest < prod:\n",
        "            if isPalindrome(prod):\n",
        "                largest = prod\n",
        "print(largest)"
      ],
      "execution_count": 0,
      "outputs": [
        {
          "output_type": "stream",
          "text": [
            "906609\n"
          ],
          "name": "stdout"
        }
      ]
    },
    {
      "metadata": {
        "id": "O5w4xGmOFtNq",
        "colab_type": "code",
        "outputId": "86703045-9618-4c89-ac00-e9fd9bb926d7",
        "colab": {
          "base_uri": "https://localhost:8080/",
          "height": 34
        }
      },
      "cell_type": "code",
      "source": [
        "### Doing one optimization\n",
        "largest = 0\n",
        "for first in range(100, 1000):\n",
        "    for second in range(first, 1000):\n",
        "        prod = first * second\n",
        "        if largest < prod:\n",
        "            if isPalindrome(prod):\n",
        "                largest = prod\n",
        "print(largest)"
      ],
      "execution_count": 0,
      "outputs": [
        {
          "output_type": "stream",
          "text": [
            "906609\n"
          ],
          "name": "stdout"
        }
      ]
    },
    {
      "metadata": {
        "id": "Dlp3O2wDFtN1",
        "colab_type": "code",
        "colab": {}
      },
      "cell_type": "code",
      "source": [
        ""
      ],
      "execution_count": 0,
      "outputs": []
    }
  ]
}