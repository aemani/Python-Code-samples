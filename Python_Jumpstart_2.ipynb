{
  "nbformat": 4,
  "nbformat_minor": 0,
  "metadata": {
    "colab": {
      "name": "Python_Jumpstart_2.ipynb",
      "version": "0.3.2",
      "provenance": [],
      "include_colab_link": true
    },
    "kernelspec": {
      "display_name": "Python 3",
      "language": "python",
      "name": "python3"
    }
  },
  "cells": [
    {
      "cell_type": "markdown",
      "metadata": {
        "id": "view-in-github",
        "colab_type": "text"
      },
      "source": [
        "<a href=\"https://colab.research.google.com/github/aemani/Python-Code-samples/blob/master/Python_Jumpstart_2.ipynb\" target=\"_parent\"><img src=\"https://colab.research.google.com/assets/colab-badge.svg\" alt=\"Open In Colab\"/></a>"
      ]
    },
    {
      "metadata": {
        "id": "MNUuh8JPZd_X",
        "colab_type": "text"
      },
      "cell_type": "markdown",
      "source": [
        "# Python Jumpstart\n",
        "## Part 2\n",
        "### Conditions and Iterations"
      ]
    },
    {
      "metadata": {
        "id": "vH5CmZm0Zd_Z",
        "colab_type": "text"
      },
      "cell_type": "markdown",
      "source": [
        "### Blocks\n",
        "  * Blocks are indicated by indenting\n",
        "  * Recommended standard is 4 spaces\n",
        "     - some projects use two spaces\n",
        "  * Wrong indentation **may** flag a syntax error "
      ]
    },
    {
      "metadata": {
        "id": "hWYVZoVxZd_b",
        "colab_type": "code",
        "colab": {},
        "outputId": "0f681987-5c6d-40cf-a638-b45a08206be7"
      },
      "cell_type": "code",
      "source": [
        "SENIOR_CITIZEN_ELIGIBILITY = 60\n",
        "my_age = 62\n",
        "if my_age > SENIOR_CITIZEN_ELIGIBILITY:\n",
        "    print(\"Eligible for senior citizen rates\")\n",
        "else:\n",
        "    print(\"Grow up some more!\")"
      ],
      "execution_count": 0,
      "outputs": [
        {
          "output_type": "stream",
          "text": [
            "Eligible for senior citizen rates\n"
          ],
          "name": "stdout"
        }
      ]
    },
    {
      "metadata": {
        "id": "cIeWEZaoZd_m",
        "colab_type": "code",
        "colab": {},
        "outputId": "f3d44b08-6520-44cd-c491-fc465140281d"
      },
      "cell_type": "code",
      "source": [
        "SENIOR_CITIZEN_ELIGIBILITY = 60\n",
        "my_age = 62\n",
        "if my_age > SENIOR_CITIZEN_ELIGIBILITY:\n",
        "    print(\"Eligible for senior citizen rates\")\n",
        "    discount = 0.5\n",
        "else:\n",
        "    print(\"Grow up some more!\")\n",
        "print(\"Thank you\")"
      ],
      "execution_count": 0,
      "outputs": [
        {
          "output_type": "stream",
          "text": [
            "Eligible for senior citizen rates\n",
            "Thank you\n"
          ],
          "name": "stdout"
        }
      ]
    },
    {
      "metadata": {
        "id": "6YVM9TL8Zd_u",
        "colab_type": "text"
      },
      "cell_type": "markdown",
      "source": [
        "### Two indenting errors"
      ]
    },
    {
      "metadata": {
        "id": "B7JStCkWZd_x",
        "colab_type": "code",
        "colab": {},
        "outputId": "db1cd725-99d0-491f-d003-c6a93d15a99c"
      },
      "cell_type": "code",
      "source": [
        "SENIOR_CITIZEN_ELIGIBILITY = 60\n",
        "my_age = 62\n",
        "if my_age > SENIOR_CITIZEN_ELIGIBILITY:\n",
        "     print(\"Eligible for senior citizen rates\")\n",
        "    discount = 0.5\n",
        "else:\n",
        "    print(\"Grow up some more!\")\n",
        "print(\"Thank you\")"
      ],
      "execution_count": 0,
      "outputs": [
        {
          "output_type": "error",
          "ename": "IndentationError",
          "evalue": "unindent does not match any outer indentation level (<tokenize>, line 5)",
          "traceback": [
            "\u001b[0;36m  File \u001b[0;32m\"<tokenize>\"\u001b[0;36m, line \u001b[0;32m5\u001b[0m\n\u001b[0;31m    discount = 0.5\u001b[0m\n\u001b[0m    ^\u001b[0m\n\u001b[0;31mIndentationError\u001b[0m\u001b[0;31m:\u001b[0m unindent does not match any outer indentation level\n"
          ]
        }
      ]
    },
    {
      "metadata": {
        "id": "BO0yQXCbZd_8",
        "colab_type": "code",
        "colab": {},
        "outputId": "02306db3-c548-44ce-8dae-0e302329cdc0"
      },
      "cell_type": "code",
      "source": [
        "SENIOR_CITIZEN_ELIGIBILITY = 60\n",
        "my_age = 62\n",
        "if my_age > SENIOR_CITIZEN_ELIGIBILITY:\n",
        "    print(\"Eligible for senior citizen rates\")\n",
        "     discount = 0.5\n",
        "else:\n",
        "    print(\"Grow up some more!\")\n",
        "print(\"Thank you\")"
      ],
      "execution_count": 0,
      "outputs": [
        {
          "output_type": "error",
          "ename": "IndentationError",
          "evalue": "unexpected indent (<ipython-input-5-7628af213d18>, line 5)",
          "traceback": [
            "\u001b[0;36m  File \u001b[0;32m\"<ipython-input-5-7628af213d18>\"\u001b[0;36m, line \u001b[0;32m5\u001b[0m\n\u001b[0;31m    discount = 0.5\u001b[0m\n\u001b[0m    ^\u001b[0m\n\u001b[0;31mIndentationError\u001b[0m\u001b[0;31m:\u001b[0m unexpected indent\n"
          ]
        }
      ]
    },
    {
      "metadata": {
        "id": "f1bWPF4SZeAG",
        "colab_type": "text"
      },
      "cell_type": "markdown",
      "source": [
        "#### Blocks Summary\n",
        "  * colon as the last character\n",
        "  * indentation to include in block\n",
        "  * unindent to close block\n",
        "  * Loops, Conditions, Functions ...."
      ]
    },
    {
      "metadata": {
        "id": "rBlBl1HkZeAI",
        "colab_type": "code",
        "colab": {},
        "outputId": "93d15600-907d-4593-af7d-fa0149d264ec"
      },
      "cell_type": "code",
      "source": [
        "x = 7\n",
        "if x > 0:\n",
        "    print(\"Positive\")\n",
        "elif x < 0:\n",
        "    print(\"Negative\")\n",
        "else:\n",
        "    print(\"Zero!\")"
      ],
      "execution_count": 0,
      "outputs": [
        {
          "output_type": "stream",
          "text": [
            "Positive\n"
          ],
          "name": "stdout"
        }
      ]
    },
    {
      "metadata": {
        "id": "-vTByrvPZeAQ",
        "colab_type": "text"
      },
      "cell_type": "markdown",
      "source": [
        "### while loop\n",
        "  * usual\n",
        "  * no parens required (as for if)\n",
        "  * possible to end with infinite loops\n",
        "  * Nestable"
      ]
    },
    {
      "metadata": {
        "id": "EWL9h32oZeAT",
        "colab_type": "code",
        "colab": {},
        "outputId": "ce18cd8f-84da-4c6f-81ca-570ec61cb4e7"
      },
      "cell_type": "code",
      "source": [
        "a, b, n = 0, 1, 0\n",
        "while n < 10:\n",
        "    print(a, end = \" \")\n",
        "    a, b = b, a + b\n",
        "    n += 1"
      ],
      "execution_count": 0,
      "outputs": [
        {
          "output_type": "stream",
          "text": [
            "0 1 1 2 3 5 8 13 21 34 "
          ],
          "name": "stdout"
        }
      ]
    },
    {
      "metadata": {
        "id": "IdV4q2WWZeAc",
        "colab_type": "text"
      },
      "cell_type": "markdown",
      "source": [
        "* break, continue are available\n",
        "* but please avoid using them"
      ]
    },
    {
      "metadata": {
        "id": "vBAtLj-1ZeAg",
        "colab_type": "text"
      },
      "cell_type": "markdown",
      "source": [
        "### for \n",
        "  * iterator not a loop\n",
        "  * ubiquitous\n",
        " "
      ]
    },
    {
      "metadata": {
        "id": "1xi2b-ZfZeAi",
        "colab_type": "code",
        "colab": {},
        "outputId": "59cb6c45-c3ee-4f9b-9b6e-cff7729821dc"
      },
      "cell_type": "code",
      "source": [
        "f = [0, 1, 1, 2, 3, 5, 8]\n",
        "for n in f:\n",
        "    print(n, n * n - 1, end = \" \")"
      ],
      "execution_count": 0,
      "outputs": [
        {
          "output_type": "stream",
          "text": [
            "0 -1 1 0 1 0 2 3 3 8 5 24 8 63 "
          ],
          "name": "stdout"
        }
      ]
    },
    {
      "metadata": {
        "id": "xTkant-AZeAn",
        "colab_type": "code",
        "colab": {},
        "outputId": "8c40ea9c-ebcd-4c83-bba9-8e8e4cb42ef1"
      },
      "cell_type": "code",
      "source": [
        "for ch in \"Hello VES!\":\n",
        "    print(ch.swapcase(), end=\"\")"
      ],
      "execution_count": 0,
      "outputs": [
        {
          "output_type": "stream",
          "text": [
            "hELLO ves!"
          ],
          "name": "stdout"
        }
      ]
    },
    {
      "metadata": {
        "id": "C2-NeihTZeAt",
        "colab_type": "code",
        "colab": {},
        "outputId": "769833fa-e0b1-4c55-bf9c-490a5a0aedc9"
      },
      "cell_type": "code",
      "source": [
        "for p in [2, 3, 5, 7]:\n",
        "    print(2 ** p - 1)"
      ],
      "execution_count": 0,
      "outputs": [
        {
          "output_type": "stream",
          "text": [
            "3\n",
            "7\n",
            "31\n",
            "127\n"
          ],
          "name": "stdout"
        }
      ]
    },
    {
      "metadata": {
        "id": "-GBVYfWtZeA0",
        "colab_type": "code",
        "colab": {},
        "outputId": "c253d9f2-ea0a-4f1c-9c0e-56590e2bca62"
      },
      "cell_type": "code",
      "source": [
        "for x in (\"Asokan\", \"CLO\", 62, [\"Python\", \"Haskell\"]):\n",
        "    print(x)"
      ],
      "execution_count": 0,
      "outputs": [
        {
          "output_type": "stream",
          "text": [
            "Asokan\n",
            "CLO\n",
            "62\n",
            "['Python', 'Haskell']\n"
          ],
          "name": "stdout"
        }
      ]
    }
  ]
}