{
  "nbformat": 4,
  "nbformat_minor": 0,
  "metadata": {
    "colab": {
      "name": "Python_Jumpstart_3.ipynb",
      "version": "0.3.2",
      "provenance": [],
      "include_colab_link": true
    },
    "kernelspec": {
      "display_name": "Python 3",
      "language": "python",
      "name": "python3"
    }
  },
  "cells": [
    {
      "cell_type": "markdown",
      "metadata": {
        "id": "view-in-github",
        "colab_type": "text"
      },
      "source": [
        "<a href=\"https://colab.research.google.com/github/aemani/Python-Code-samples/blob/master/Python_Jumpstart_3.ipynb\" target=\"_parent\"><img src=\"https://colab.research.google.com/assets/colab-badge.svg\" alt=\"Open In Colab\"/></a>"
      ]
    },
    {
      "metadata": {
        "id": "nX2FBUGOZpue",
        "colab_type": "text"
      },
      "cell_type": "markdown",
      "source": [
        "# Python Jumpstart\n",
        "## Part 3\n",
        "### Functions"
      ]
    },
    {
      "metadata": {
        "id": "p18moGNAZpug",
        "colab_type": "text"
      },
      "cell_type": "markdown",
      "source": [
        "## Batteries included language\n",
        "\n",
        "### Built-in functions\n",
        "https://docs.python.org/3/library/functions.html\n",
        "\n",
        "### Standard Library\n",
        "https://docs.python.org/3/library/index.html\n",
        "\n",
        "### External libraries\n",
        "  * numpy, scipy, matplotlib\n",
        "  * pandas\n",
        "  * nltk\n",
        "  * beautifulsoup, lxml\n",
        "  * requests\n",
        "  * sympy\n",
        "  * pygame\n",
        "  * tkinter\n",
        "  * ..."
      ]
    },
    {
      "metadata": {
        "id": "JSdH5RC_Zpui",
        "colab_type": "text"
      },
      "cell_type": "markdown",
      "source": [
        "## Built-in Functions\n",
        " * math \n",
        "   - abs(), divmod(), pow(), round()\n",
        " * constructors & converters\n",
        "   - bin(), bool(), chr(), complex(), dict(), \n",
        "   - float(), hex(), int(), list(), oct(), ord()\n",
        "   - range(), set(), str(), tuple()\n",
        " * aggregate\n",
        "   - len(), min(), max(), sum(), any(), all()\n",
        " * introspection\n",
        "   - id(), dir(), hash(), repr(), type()\n",
        "   - eval(), exec()\n",
        " * hof\n",
        "   - map(), filter(), zip()\n",
        " * and more ..."
      ]
    },
    {
      "metadata": {
        "id": "FQ2EMZHCZpuk",
        "colab_type": "text"
      },
      "cell_type": "markdown",
      "source": [
        "## Writing your own functions\n",
        "### Standard method"
      ]
    },
    {
      "metadata": {
        "id": "gSNqBZJ6Zpum",
        "colab_type": "code",
        "colab": {}
      },
      "cell_type": "code",
      "source": [
        "def isPrime(n):\n",
        "    if n in [2, 3, 5, 7]:\n",
        "        return True\n",
        "    if n % 2 == 0:\n",
        "        return False\n",
        "    r = 3\n",
        "    while r * r <= n:\n",
        "        if n % r == 0:\n",
        "            return False\n",
        "        r += 2\n",
        "    return True"
      ],
      "execution_count": 0,
      "outputs": []
    },
    {
      "metadata": {
        "id": "H7HdzCNoZpuy",
        "colab_type": "code",
        "colab": {},
        "outputId": "3dea2342-0455-421c-c29f-0ad50ad1a9d5"
      },
      "cell_type": "code",
      "source": [
        "print(isPrime(12))\n",
        "print(isPrime(107))"
      ],
      "execution_count": 0,
      "outputs": [
        {
          "output_type": "stream",
          "text": [
            "False\n",
            "True\n"
          ],
          "name": "stdout"
        }
      ]
    },
    {
      "metadata": {
        "id": "Yf-mZEB0ZpvC",
        "colab_type": "text"
      },
      "cell_type": "markdown",
      "source": [
        "#### New syntax\n",
        "#### From 3.7"
      ]
    },
    {
      "metadata": {
        "id": "3JU0bZ54ZpvF",
        "colab_type": "code",
        "colab": {}
      },
      "cell_type": "code",
      "source": [
        "def isPrime2(n: int) -> bool:\n",
        "    if n in [2, 3, 5, 7]:\n",
        "        return True\n",
        "    if n % 2 == 0:\n",
        "        return False\n",
        "    r = 3\n",
        "    while r * r <= n:\n",
        "        if n % r == 0:\n",
        "            return False\n",
        "        r += 2\n",
        "    return True"
      ],
      "execution_count": 0,
      "outputs": []
    },
    {
      "metadata": {
        "id": "U0HDeAgiZpvL",
        "colab_type": "code",
        "colab": {},
        "outputId": "2b596568-c3e2-4ecb-cdeb-e3c6b4a29fc2"
      },
      "cell_type": "code",
      "source": [
        "print(isPrime2(12))\n",
        "print(isPrime2(107))"
      ],
      "execution_count": 0,
      "outputs": [
        {
          "output_type": "stream",
          "text": [
            "False\n",
            "True\n"
          ],
          "name": "stdout"
        }
      ]
    },
    {
      "metadata": {
        "id": "he8rgsqsZpvS",
        "colab_type": "text"
      },
      "cell_type": "markdown",
      "source": [
        "## Code reading"
      ]
    },
    {
      "metadata": {
        "id": "gq0VYgaqZpvT",
        "colab_type": "code",
        "colab": {}
      },
      "cell_type": "code",
      "source": [
        "def bvrith(n):\n",
        "    r = 0\n",
        "    while r * r < n:\n",
        "        r += 1\n",
        "    return r * r == n"
      ],
      "execution_count": 0,
      "outputs": []
    },
    {
      "metadata": {
        "id": "gqxx2uNOZpvY",
        "colab_type": "code",
        "colab": {}
      },
      "cell_type": "code",
      "source": [
        "def svecw(n):\n",
        "    if n == 1:\n",
        "        return True\n",
        "    if n % 2 == 1:\n",
        "        return False\n",
        "    return svecw(n//2)"
      ],
      "execution_count": 0,
      "outputs": []
    },
    {
      "metadata": {
        "id": "VaSYBA2ZZpvc",
        "colab_type": "code",
        "colab": {}
      },
      "cell_type": "code",
      "source": [
        "def bvrit(n):\n",
        "    s = 0\n",
        "    p = len(str(n))\n",
        "    for ch in str(n):\n",
        "        s += int(ch) ** p\n",
        "    return s == n"
      ],
      "execution_count": 0,
      "outputs": []
    },
    {
      "metadata": {
        "id": "x6EaQ17xZpvi",
        "colab_type": "code",
        "colab": {}
      },
      "cell_type": "code",
      "source": [
        "def vit(s):\n",
        "    if len(s) <= 1:\n",
        "        return True\n",
        "    if s[0] != s[-1]:\n",
        "        return False\n",
        "    return vit(s[1:-1])"
      ],
      "execution_count": 0,
      "outputs": []
    }
  ]
}