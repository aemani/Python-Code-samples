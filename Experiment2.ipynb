{
  "nbformat": 4,
  "nbformat_minor": 0,
  "metadata": {
    "colab": {
      "name": "Experiment2.ipynb",
      "version": "0.3.2",
      "provenance": [],
      "collapsed_sections": [],
      "include_colab_link": true
    },
    "kernelspec": {
      "name": "python3",
      "display_name": "Python 3"
    }
  },
  "cells": [
    {
      "cell_type": "markdown",
      "metadata": {
        "id": "view-in-github",
        "colab_type": "text"
      },
      "source": [
        "<a href=\"https://colab.research.google.com/github/aemani/Python-Code-samples/blob/master/Experiment2.ipynb\" target=\"_parent\"><img src=\"https://colab.research.google.com/assets/colab-badge.svg\" alt=\"Open In Colab\"/></a>"
      ]
    },
    {
      "metadata": {
        "id": "k5uMi3sX8OmI",
        "colab_type": "text"
      },
      "cell_type": "markdown",
      "source": [
        "\n",
        "# Advanced Certification in AIML\n",
        "## A Program by IIIT-H and TalentSprint"
      ]
    },
    {
      "metadata": {
        "id": "nS9jTci58TH0",
        "colab_type": "text"
      },
      "cell_type": "markdown",
      "source": [
        "### Setup Steps"
      ]
    },
    {
      "metadata": {
        "id": "1PJ6sdyZ8cXh",
        "colab_type": "code",
        "colab": {}
      },
      "cell_type": "code",
      "source": [
        "#@title Please enter your registration id to start: (e.g. P181900101) { run: \"auto\", display-mode: \"form\" }\n",
        "Id = \"\" #@param {type:\"string\"}\n"
      ],
      "execution_count": 0,
      "outputs": []
    },
    {
      "metadata": {
        "id": "CZF-4Ymm8gVm",
        "colab_type": "code",
        "colab": {}
      },
      "cell_type": "code",
      "source": [
        "#@title Please enter your password (normally your phone number) to continue: { run: \"auto\", display-mode: \"form\" }\n",
        "password = \"\" #@param {type:\"string\"}\n"
      ],
      "execution_count": 0,
      "outputs": []
    },
    {
      "metadata": {
        "id": "2eVB__Oo8khh",
        "colab_type": "code",
        "cellView": "form",
        "outputId": "a82edf65-d865-4e45-8987-c9066209862b",
        "colab": {
          "base_uri": "https://localhost:8080/",
          "height": 33
        }
      },
      "cell_type": "code",
      "source": [
        "#@title Run this cell to complete the setup for this Notebook\n",
        "\n",
        "from IPython import get_ipython\n",
        "ipython = get_ipython()\n",
        "  \n",
        "notebook=\"M0W1_EXP_2_PythonBasics\" #name of the notebook\n",
        "\n",
        "def setup():\n",
        "#  ipython.magic(\"sx pip3 install torch\")\n",
        "   \n",
        "   print (\"Setup completed successfully\")\n",
        "   return\n",
        "\n",
        "def submit_notebook():\n",
        "    \n",
        "    ipython.magic(\"notebook -e \"+ notebook + \".ipynb\")\n",
        "    \n",
        "    import requests, json, base64, datetime\n",
        "\n",
        "    url = \"https://dashboard.talentsprint.com/xp/app/save_notebook_attempts\"\n",
        "    if not submission_id:\n",
        "      data = {\"id\" : getId(), \"notebook\" : notebook, \"mobile\" : getPassword()}\n",
        "      r = requests.post(url, data = data)\n",
        "      r = json.loads(r.text)\n",
        "\n",
        "      if r[\"status\"] == \"Success\":\n",
        "          return r[\"record_id\"]\n",
        "      elif \"err\" in r:        \n",
        "        print(r[\"err\"])\n",
        "        return None        \n",
        "      else:\n",
        "        print (\"Something is wrong, the notebook will not be submitted for grading\")\n",
        "        return None\n",
        "\n",
        "    elif getAnswer() and getComplexity() and getAdditional() and getConcepts():\n",
        "      f = open(notebook + \".ipynb\", \"rb\")\n",
        "      file_hash = base64.b64encode(f.read())\n",
        "\n",
        "      data = {\"complexity\" : Complexity, \"additional\" :Additional, \n",
        "              \"concepts\" : Concepts, \"record_id\" : submission_id, \n",
        "              \"answer\" : Answer, \"id\" : Id, \"file_hash\" : file_hash,\n",
        "              \"notebook\" : notebook}\n",
        "\n",
        "      r = requests.post(url, data = data)\n",
        "      r = json.loads(r.text)\n",
        "      print(\"Your submission is successful.\")\n",
        "      print(\"Ref Id:\", submission_id)\n",
        "      print(\"Date of submission: \", r[\"date\"])\n",
        "      print(\"Time of submission: \", r[\"time\"])\n",
        "      print(\"View your submissions: https://iiith-aiml.talentsprint.com/notebook_submissions\")\n",
        "      print(\"For any queries/discrepancies, please connect with mentors through the chat icon in LMS dashboard.\")\n",
        "      return submission_id\n",
        "    else: submission_id\n",
        "    \n",
        "\n",
        "def getAdditional():\n",
        "  try:\n",
        "    if Additional: return Additional      \n",
        "    else: raise NameError('')\n",
        "  except NameError:\n",
        "    print (\"Please answer Additional Question\")\n",
        "    return None\n",
        "\n",
        "def getComplexity():\n",
        "  try:\n",
        "    return Complexity\n",
        "  except NameError:\n",
        "    print (\"Please answer Complexity Question\")\n",
        "    return None\n",
        "  \n",
        "def getConcepts():\n",
        "  try:\n",
        "    return Concepts\n",
        "  except NameError:\n",
        "    print (\"Please answer Concepts Question\")\n",
        "    return None\n",
        "\n",
        "def getAnswer():\n",
        "  try:\n",
        "    return Answer\n",
        "  except NameError:\n",
        "    print (\"Please answer Question\")\n",
        "    return None\n",
        "\n",
        "def getId():\n",
        "  try: \n",
        "    return Id if Id else None\n",
        "  except NameError:\n",
        "    return None\n",
        "\n",
        "def getPassword():\n",
        "  try:\n",
        "    return password if password else None\n",
        "  except NameError:\n",
        "    return None\n",
        "\n",
        "submission_id = None\n",
        "### Setup \n",
        "if getPassword() and getId():\n",
        "  submission_id = submit_notebook()\n",
        "  if submission_id:\n",
        "    setup()\n",
        "  \n",
        "else:\n",
        "  print (\"Please complete Id and Password cells before running setup\")\n",
        "\n"
      ],
      "execution_count": 0,
      "outputs": [
        {
          "output_type": "stream",
          "text": [
            "Setup completed successfully\n"
          ],
          "name": "stdout"
        }
      ]
    },
    {
      "metadata": {
        "id": "NZ627IXgufJE",
        "colab_type": "text"
      },
      "cell_type": "markdown",
      "source": [
        "### Dictionaries/Sets/List-comprehensions/Function: \n",
        "Under this section you'll see basic introduction to all osf the above, from the perspective of using misunderstanding that arise during writing ML programs.\n",
        "\n",
        "**NOTE: There is no grading involved in this exercise.**"
      ]
    },
    {
      "metadata": {
        "colab_type": "text",
        "id": "8_cq2fKgueRF"
      },
      "cell_type": "markdown",
      "source": [
        "## Dictionaries"
      ]
    },
    {
      "metadata": {
        "colab_type": "code",
        "id": "88RnxRrRBSJS",
        "colab": {}
      },
      "cell_type": "code",
      "source": [
        "#Create a dictionary\n",
        "capitals = {\"INDIA\" : \"New Delhi\", \"USA\" : \"Washington DC\", \"UK\" : \"London\" }"
      ],
      "execution_count": 0,
      "outputs": []
    },
    {
      "metadata": {
        "colab_type": "code",
        "id": "Yb2GxmTRDrss",
        "colab": {}
      },
      "cell_type": "code",
      "source": [
        "#Retrive value of a key\n",
        "capitals[\"USA\"]"
      ],
      "execution_count": 0,
      "outputs": []
    },
    {
      "metadata": {
        "colab_type": "code",
        "id": "TS1KqNtkHBq4",
        "colab": {}
      },
      "cell_type": "code",
      "source": [
        "#Retrive value of a key\n",
        "capitals[\"INDIA\"]"
      ],
      "execution_count": 0,
      "outputs": []
    },
    {
      "metadata": {
        "colab_type": "code",
        "id": "kTkrYdB-HflQ",
        "colab": {}
      },
      "cell_type": "code",
      "source": [
        "#Case sensitive\n",
        "capitals[\"India\"]"
      ],
      "execution_count": 0,
      "outputs": []
    },
    {
      "metadata": {
        "colab_type": "code",
        "id": "zKzS_V9gD60W",
        "colab": {}
      },
      "cell_type": "code",
      "source": [
        "#Length of a dictionary\n",
        "len(capitals)"
      ],
      "execution_count": 0,
      "outputs": []
    },
    {
      "metadata": {
        "colab_type": "code",
        "id": "dzIM-hUJEBfQ",
        "colab": {}
      },
      "cell_type": "code",
      "source": [
        "#Built-in function to get the keys\n",
        "capitals.keys()"
      ],
      "execution_count": 0,
      "outputs": []
    },
    {
      "metadata": {
        "colab_type": "code",
        "id": "Ib_V2aNTEQAO",
        "colab": {}
      },
      "cell_type": "code",
      "source": [
        "#Built-in function to get values \n",
        "capitals.values()"
      ],
      "execution_count": 0,
      "outputs": []
    },
    {
      "metadata": {
        "colab_type": "code",
        "id": "OBBNljqvFWvO",
        "colab": {}
      },
      "cell_type": "code",
      "source": [
        "#Retrive all the key - value pairs\n",
        "capitals.items()"
      ],
      "execution_count": 0,
      "outputs": []
    },
    {
      "metadata": {
        "colab_type": "code",
        "id": "kvQnx8UlFt0K",
        "colab": {}
      },
      "cell_type": "code",
      "source": [
        "#Adding a key - value pair\n",
        "capitals[\"SRI LANKA\"] = \"Colombo\""
      ],
      "execution_count": 0,
      "outputs": []
    },
    {
      "metadata": {
        "colab_type": "code",
        "id": "RIvnOM5SF51Y",
        "colab": {}
      },
      "cell_type": "code",
      "source": [
        "#New length of dictionary\n",
        "len(capitals)"
      ],
      "execution_count": 0,
      "outputs": []
    },
    {
      "metadata": {
        "colab_type": "code",
        "id": "kQIBmjJ_F-Ru",
        "colab": {}
      },
      "cell_type": "code",
      "source": [
        "#Order of key-value pairs get changed\n",
        "capitals"
      ],
      "execution_count": 0,
      "outputs": []
    },
    {
      "metadata": {
        "colab_type": "code",
        "id": "xmpY8CaeOT0U",
        "colab": {}
      },
      "cell_type": "code",
      "source": [
        "capitals[\"AFGANISTAN\"] = \"Kabul\""
      ],
      "execution_count": 0,
      "outputs": []
    },
    {
      "metadata": {
        "colab_type": "code",
        "id": "jCdte-XHOd6o",
        "colab": {}
      },
      "cell_type": "code",
      "source": [
        "#Update an existing dictionary\n",
        "capitals[\"AFGANISTAN\"] = \"KABUL\""
      ],
      "execution_count": 0,
      "outputs": []
    },
    {
      "metadata": {
        "colab_type": "code",
        "id": "2uLlL38nPIRE",
        "colab": {}
      },
      "cell_type": "code",
      "source": [
        "capitals"
      ],
      "execution_count": 0,
      "outputs": []
    },
    {
      "metadata": {
        "colab_type": "code",
        "id": "FBW2K6khGBwm",
        "colab": {}
      },
      "cell_type": "code",
      "source": [
        "#Dictionaries can contain tuples\n",
        "capitals[(23,45)] = \"Number\""
      ],
      "execution_count": 0,
      "outputs": []
    },
    {
      "metadata": {
        "colab_type": "code",
        "id": "TfYMEBI3LYCc",
        "colab": {}
      },
      "cell_type": "code",
      "source": [
        "capitals"
      ],
      "execution_count": 0,
      "outputs": []
    },
    {
      "metadata": {
        "colab_type": "code",
        "id": "RjmV9Re6LYyO",
        "colab": {}
      },
      "cell_type": "code",
      "source": [
        "for k in capitals.keys():\n",
        "  print ( capitals[k])"
      ],
      "execution_count": 0,
      "outputs": []
    },
    {
      "metadata": {
        "colab_type": "code",
        "id": "0dbkuLt-OB_A",
        "colab": {}
      },
      "cell_type": "code",
      "source": [
        "for k in capitals.keys():\n",
        "  print ( k , capitals[k])"
      ],
      "execution_count": 0,
      "outputs": []
    },
    {
      "metadata": {
        "colab_type": "code",
        "id": "KUYGcfrWOGzM",
        "colab": {}
      },
      "cell_type": "code",
      "source": [
        "#Letter count\n",
        "letterCount = {}"
      ],
      "execution_count": 0,
      "outputs": []
    },
    {
      "metadata": {
        "colab_type": "code",
        "id": "BbHaNYTYP3MY",
        "colab": {}
      },
      "cell_type": "code",
      "source": [
        "s = '''TalentSprint is a digital platform designed to transform \n",
        "the lives of professionals in the new economy. Its blended bootcamps\n",
        "offer deeptech skills.'''"
      ],
      "execution_count": 0,
      "outputs": []
    },
    {
      "metadata": {
        "colab_type": "code",
        "id": "hgdeGHePRAMK",
        "colab": {}
      },
      "cell_type": "code",
      "source": [
        "for ch in s :\n",
        "  ch = ch.lower()\n",
        "  if ch not in letterCount :\n",
        "    letterCount[ch] = 1\n",
        "  else :\n",
        "    letterCount[ch] += 1"
      ],
      "execution_count": 0,
      "outputs": []
    },
    {
      "metadata": {
        "colab_type": "code",
        "id": "SYg7ARPLRkZy",
        "colab": {}
      },
      "cell_type": "code",
      "source": [
        "letterCount"
      ],
      "execution_count": 0,
      "outputs": []
    },
    {
      "metadata": {
        "colab_type": "code",
        "id": "IbUJKNpBRu9s",
        "colab": {}
      },
      "cell_type": "code",
      "source": [
        "letterCount.keys()"
      ],
      "execution_count": 0,
      "outputs": []
    },
    {
      "metadata": {
        "id": "Qc0d37XjIEJI",
        "colab_type": "text"
      },
      "cell_type": "markdown",
      "source": [
        "## Sets - Distinct elements of a group"
      ]
    },
    {
      "metadata": {
        "id": "raomPqOfKonx",
        "colab_type": "code",
        "colab": {}
      },
      "cell_type": "code",
      "source": [
        "#can be created in two ways\n",
        "setWithoutRepetitions=set([1,2,2,2,3,3,3,3,4,5])#Passing an entire list object\n",
        "#passing individual objects and using curly braces\n",
        "setWithoutReps2={1,2,2,2,3,3,3,3,4,5}\n"
      ],
      "execution_count": 0,
      "outputs": []
    },
    {
      "metadata": {
        "id": "2VL2o4vuMTaq",
        "colab_type": "code",
        "colab": {}
      },
      "cell_type": "code",
      "source": [
        "setWithoutRepetitions"
      ],
      "execution_count": 0,
      "outputs": []
    },
    {
      "metadata": {
        "id": "QKcFjTMkMbWS",
        "colab_type": "code",
        "colab": {}
      },
      "cell_type": "code",
      "source": [
        "setWithoutReps2"
      ],
      "execution_count": 0,
      "outputs": []
    },
    {
      "metadata": {
        "id": "a87oyd_RIEB-",
        "colab_type": "text"
      },
      "cell_type": "markdown",
      "source": [
        "### Sets are unordered"
      ]
    },
    {
      "metadata": {
        "id": "2sVLoqBDID1l",
        "colab_type": "code",
        "colab": {}
      },
      "cell_type": "code",
      "source": [
        "alphabets=['q','u','u','x']"
      ],
      "execution_count": 0,
      "outputs": []
    },
    {
      "metadata": {
        "id": "pjOcZ0c5KIC1",
        "colab_type": "code",
        "colab": {}
      },
      "cell_type": "code",
      "source": [
        "alphabetSet=set(alphabets)"
      ],
      "execution_count": 0,
      "outputs": []
    },
    {
      "metadata": {
        "id": "fYcA3HDiKL7P",
        "colab_type": "code",
        "colab": {}
      },
      "cell_type": "code",
      "source": [
        "#need not be in order, though coincidentally sometimes is!\n",
        "alphabetSet"
      ],
      "execution_count": 0,
      "outputs": []
    },
    {
      "metadata": {
        "id": "XRXD6W-PMjhK",
        "colab_type": "text"
      },
      "cell_type": "markdown",
      "source": [
        "### Sets are immutable"
      ]
    },
    {
      "metadata": {
        "id": "8U58Uo39Mzk_",
        "colab_type": "code",
        "colab": {}
      },
      "cell_type": "code",
      "source": [
        "#Lets change second element of 'alphabetSet' above! You'll see the error...\n",
        "alphabetSet[1]='b'"
      ],
      "execution_count": 0,
      "outputs": []
    },
    {
      "metadata": {
        "id": "-rf0isIbOWJo",
        "colab_type": "text"
      },
      "cell_type": "markdown",
      "source": [
        "### Note: All standard mathematical set operations are possible in sets. Please explore those."
      ]
    },
    {
      "metadata": {
        "id": "6-NQrVrqOPM-",
        "colab_type": "text"
      },
      "cell_type": "markdown",
      "source": [
        "### Set Uses"
      ]
    },
    {
      "metadata": {
        "id": "cuUcbLjbNYak",
        "colab_type": "code",
        "colab": {}
      },
      "cell_type": "code",
      "source": [
        "#useful in text processing. For example: finding distinct alphabets in a word\n",
        "word='mississippi'"
      ],
      "execution_count": 0,
      "outputs": []
    },
    {
      "metadata": {
        "id": "nOXFxMbCOAUE",
        "colab_type": "code",
        "colab": {}
      },
      "cell_type": "code",
      "source": [
        "distinctAplha=set(word)"
      ],
      "execution_count": 0,
      "outputs": []
    },
    {
      "metadata": {
        "id": "d92fEAnSOEK9",
        "colab_type": "code",
        "colab": {}
      },
      "cell_type": "code",
      "source": [
        "distinctAplha"
      ],
      "execution_count": 0,
      "outputs": []
    },
    {
      "metadata": {
        "colab_type": "text",
        "id": "kOhsGLZW5cKn"
      },
      "cell_type": "markdown",
      "source": [
        "## Functions"
      ]
    },
    {
      "metadata": {
        "id": "2t_u2r_RQKFE",
        "colab_type": "text"
      },
      "cell_type": "markdown",
      "source": [
        "### Return values"
      ]
    },
    {
      "metadata": {
        "colab_type": "code",
        "id": "-CMRxsZN5bbe",
        "colab": {}
      },
      "cell_type": "code",
      "source": [
        "def returnsTwoValues():\n",
        "  x=1\n",
        "  y=2\n",
        "  return x,y\n"
      ],
      "execution_count": 0,
      "outputs": []
    },
    {
      "metadata": {
        "id": "ZiTxIFUTkgLN",
        "colab_type": "code",
        "colab": {}
      },
      "cell_type": "code",
      "source": [
        "#Call the function above \"ONLY\" to return the value of y while ignoring X\n",
        "_,y=returnsTwoValues()"
      ],
      "execution_count": 0,
      "outputs": []
    },
    {
      "metadata": {
        "id": "41TNXplPQRWC",
        "colab_type": "text"
      },
      "cell_type": "markdown",
      "source": [
        "### First class objects"
      ]
    },
    {
      "metadata": {
        "id": "IFZKzM0zExNB",
        "colab_type": "code",
        "colab": {}
      },
      "cell_type": "code",
      "source": [
        "#Functions are first-class objects. For instance, you can pass function as a parameter\n",
        "def greet(differentTypesOfGreet):\n",
        "  greetText = differentTypesOfGreet()\n",
        "  print(greetText)\n",
        "\n",
        "def justHello():\n",
        "  return \"hello\"\n",
        "\n",
        "def ecstaticHello():\n",
        "  return \"Heyyyyy!!!!\"\n"
      ],
      "execution_count": 0,
      "outputs": []
    },
    {
      "metadata": {
        "id": "Wi6n_X-UFmIE",
        "colab_type": "code",
        "colab": {}
      },
      "cell_type": "code",
      "source": [
        "greet(justHello)\n",
        "greet(ecstaticHello)"
      ],
      "execution_count": 0,
      "outputs": []
    },
    {
      "metadata": {
        "id": "NuxhAvPJiHgR",
        "colab_type": "text"
      },
      "cell_type": "markdown",
      "source": [
        "## File Handling"
      ]
    },
    {
      "metadata": {
        "id": "zWPfnCd-iKyh",
        "colab_type": "code",
        "colab": {}
      },
      "cell_type": "code",
      "source": [
        "#EXERCISE: Open a file for writing\n",
        "f=open('MyDetails.txt','w')\n",
        "f.write(\"I am so and so\")\n",
        "f.close()"
      ],
      "execution_count": 0,
      "outputs": []
    },
    {
      "metadata": {
        "id": "EUhKQ1kOiaay",
        "colab_type": "code",
        "colab": {}
      },
      "cell_type": "code",
      "source": [
        "#EXERCISE: Read the file that you just wrote and saved and print the contents\n",
        "readF=open(\"MyDetails.txt\",'r')"
      ],
      "execution_count": 0,
      "outputs": []
    },
    {
      "metadata": {
        "id": "M_cRcSrvimDr",
        "colab_type": "code",
        "colab": {}
      },
      "cell_type": "code",
      "source": [
        "for lines in readF:\n",
        "  print(f'printing using flash string {lines}')# Upwards of Python 3.0\n",
        "  print('printing using good old print :',lines) #On all versions. Which way of formatting seems easier?\n",
        "\n"
      ],
      "execution_count": 0,
      "outputs": []
    },
    {
      "metadata": {
        "id": "g4xklDcAi5uS",
        "colab_type": "code",
        "colab": {}
      },
      "cell_type": "code",
      "source": [
        "readF.close()"
      ],
      "execution_count": 0,
      "outputs": []
    },
    {
      "metadata": {
        "id": "pIX9cdxEKYxI",
        "colab_type": "text"
      },
      "cell_type": "markdown",
      "source": [
        "# Programs - Functions/Dictionaries/Sets/List comprehensions"
      ]
    },
    {
      "metadata": {
        "id": "jarXZWQStihu",
        "colab_type": "text"
      },
      "cell_type": "markdown",
      "source": [
        "## Fuctions/List comprehensions:\n",
        "**Problem1**: If we list all the natural numbers below 10 that are multiples of 3 or 5, we get 3, 5, 6 and 9. The sum of these multiples is 23.\n",
        "\n",
        "Find the sum of all the multiples of 3 or 5 below 1000."
      ]
    },
    {
      "metadata": {
        "id": "YS_ADu66tMSo",
        "colab_type": "code",
        "colab": {}
      },
      "cell_type": "code",
      "source": [
        "### Using a function with while\n",
        "def select(x):\n",
        "    return x % 3 == 0 or x % 5 == 0\n",
        "\n",
        "LIMIT = 1000\n",
        "total = 0\n",
        "n = 1\n",
        "while n < LIMIT:\n",
        "    if select(n):\n",
        "        total += n\n",
        "    n += 1\n",
        "print(total)"
      ],
      "execution_count": 0,
      "outputs": []
    },
    {
      "metadata": {
        "id": "9Z3i2UyVtSOr",
        "colab_type": "code",
        "colab": {}
      },
      "cell_type": "code",
      "source": [
        "### Using filter with lambda\n",
        "LIMIT = 1000\n",
        "sum(filter(lambda x: x % 3 == 0 or x % 5 == 0, range(LIMIT)))"
      ],
      "execution_count": 0,
      "outputs": []
    },
    {
      "metadata": {
        "id": "O_kRYzVWtXDp",
        "colab_type": "code",
        "colab": {}
      },
      "cell_type": "code",
      "source": [
        "### Using filter with function\n",
        "def select(x):\n",
        "    return x % 3 == 0 or x % 5 == 0\n",
        "LIMIT = 1000\n",
        "sum(filter(select, range(LIMIT)))"
      ],
      "execution_count": 0,
      "outputs": []
    },
    {
      "metadata": {
        "id": "zfaW0rggtY5m",
        "colab_type": "code",
        "colab": {}
      },
      "cell_type": "code",
      "source": [
        "### Using list comprehensions\n",
        "LIMIT = 1000\n",
        "sum([x for x in range(LIMIT) if x % 3 == 0 or x % 5 == 0])"
      ],
      "execution_count": 0,
      "outputs": []
    },
    {
      "metadata": {
        "id": "YTbWb9MLzXPe",
        "colab_type": "text"
      },
      "cell_type": "markdown",
      "source": [
        "**Problem2**: Each new term in the Fibonacci sequence is generated by adding the previous two terms. By starting with 1 and 2, the first 10 terms will be:\n",
        "\n",
        "1, 2, 3, 5, 8, 13, 21, 34, 55, 89, ...\n",
        "\n",
        "By considering the terms in the Fibonacci sequence whose values do not exceed four million, find the sum of the even-valued terms."
      ]
    },
    {
      "metadata": {
        "id": "dSQdDkGhzXaF",
        "colab_type": "code",
        "colab": {}
      },
      "cell_type": "code",
      "source": [
        "### Generating the fibonacci series and storing it\n",
        "### caution: MEMORY hungry\n",
        "def fib(n):\n",
        "    a, b = 0, 1\n",
        "    fibs = []\n",
        "    while a < n:\n",
        "        fibs.append(a)\n",
        "        a, b = b, a+b\n",
        "    return fibs"
      ],
      "execution_count": 0,
      "outputs": []
    },
    {
      "metadata": {
        "id": "dtflmZFgzgWQ",
        "colab_type": "code",
        "colab": {}
      },
      "cell_type": "code",
      "source": [
        "### filter and lambda with the generated fibs \n",
        "LIMIT = 4000000\n",
        "sum(filter(lambda x: x % 2 == 0, fib(LIMIT)))"
      ],
      "execution_count": 0,
      "outputs": []
    },
    {
      "metadata": {
        "id": "skRyvFf9zhHZ",
        "colab_type": "code",
        "colab": {}
      },
      "cell_type": "code",
      "source": [
        "### list comprehension with the generated fibs \n",
        "LIMIT = 4000000\n",
        "sum([x for x in fib(LIMIT) if x % 2 == 0])"
      ],
      "execution_count": 0,
      "outputs": []
    },
    {
      "metadata": {
        "id": "xs5Coak5zqbU",
        "colab_type": "code",
        "colab": {}
      },
      "cell_type": "code",
      "source": [
        "### Using yield, filter and lambda\n",
        "### ADVANCED: does not take up memory\n",
        "def fib(n):\n",
        "    a, b = 0, 1\n",
        "    while a < n:\n",
        "        yield a\n",
        "        a, b = b, a + b\n",
        "LIMIT = 4000000\n",
        "sum(filter(lambda x: x % 2 == 0, fib(LIMIT)))"
      ],
      "execution_count": 0,
      "outputs": []
    },
    {
      "metadata": {
        "id": "Ck39iS3e2qZk",
        "colab_type": "text"
      },
      "cell_type": "markdown",
      "source": [
        "**Problem3**: FizzBuzz \n",
        "This is a game that has gained in popularity as a programming assignment to weed out non-programmers during job interviews. The object of the assignment is less about solving it correctly according to the below rules and more about showing the programmer understands basic, necessary tools such as if-/else-statements and loops. The rules of FizzBuzz are as follows:\n",
        "\n",
        "For numbers 1 through 100,\n",
        "\n",
        " * if the number is divisible by 3 print Fizz;\n",
        " * if the number is divisible by 5 print Buzz;\n",
        " * if the number is divisible by 3 and 5 (15) print FizzBuzz;\n",
        " * else, print the number."
      ]
    },
    {
      "metadata": {
        "id": "Gqv9Fori3B_0",
        "colab_type": "code",
        "colab": {}
      },
      "cell_type": "code",
      "source": [
        "##COULD YOU TRY A SOPHISTICATED VERISON THAT INCLUDES FUNCTIONS/LIST-COMPREHENSIONS etc?\n",
        "##YOUR CODE HERE##"
      ],
      "execution_count": 0,
      "outputs": []
    },
    {
      "metadata": {
        "id": "YQ0srYH45T0d",
        "colab_type": "text"
      },
      "cell_type": "markdown",
      "source": [
        "**Problem4: Primes!**\n",
        "By listing the first six prime numbers: 2, 3, 5, 7, 11, and 13, we can see that the 6th prime is 13.\n",
        "\n",
        "What is the  10,001𝑡ℎ  prime number?"
      ]
    },
    {
      "metadata": {
        "id": "6Y067_3p5VIo",
        "colab_type": "code",
        "colab": {}
      },
      "cell_type": "code",
      "source": [
        "## Use the constructs learnt above to write this one.\n",
        "##YOUR CODE HERE"
      ],
      "execution_count": 0,
      "outputs": []
    },
    {
      "metadata": {
        "id": "Hh-ri1R99Kpo",
        "colab_type": "text"
      },
      "cell_type": "markdown",
      "source": [
        "### Please answer the questions below to complete the experiment:"
      ]
    },
    {
      "metadata": {
        "id": "UYDlfiAi5aJj",
        "colab_type": "code",
        "colab": {}
      },
      "cell_type": "code",
      "source": [
        "#@title Which of the following cannot be used as keys in dictionaries { run: \"auto\", form-width: \"500px\", display-mode: \"form\" }\n",
        "Answer = \"strings\" #@param  [\"strings\", \"tuples\", \"list\"]\n"
      ],
      "execution_count": 0,
      "outputs": []
    },
    {
      "metadata": {
        "id": "vb3In-yy9Uxg",
        "colab_type": "code",
        "colab": {}
      },
      "cell_type": "code",
      "source": [
        "#@title How was the experiment? { run: \"auto\", form-width: \"500px\", display-mode: \"form\" }\n",
        "Complexity = \"\" #@param [\"Too Simple, I am wasting time\", \"Good, But Not Challenging for me\", \"Good and Challenging for me\", \"Was Tough, but I did it\", \"Too Difficult for me\"]\n"
      ],
      "execution_count": 0,
      "outputs": []
    },
    {
      "metadata": {
        "id": "RaKm3EKl9ZBH",
        "colab_type": "code",
        "colab": {}
      },
      "cell_type": "code",
      "source": [
        "#@title If it was very easy, what more you would have liked to have been added? If it was very difficult, what would you have liked to have been removed? { run: \"auto\", display-mode: \"form\" }\n",
        "Additional = \"\" #@param {type:\"string\"}"
      ],
      "execution_count": 0,
      "outputs": []
    },
    {
      "metadata": {
        "id": "P7_gJn-Y9dJu",
        "colab_type": "code",
        "colab": {}
      },
      "cell_type": "code",
      "source": [
        "#@title Can you identify the concepts from the lecture which this experiment covered? { run: \"auto\", vertical-output: true, display-mode: \"form\" }\n",
        "Concepts = \"\" #@param [\"Yes\", \"No\"]"
      ],
      "execution_count": 0,
      "outputs": []
    },
    {
      "metadata": {
        "id": "jThGxf-O9fs8",
        "colab_type": "code",
        "cellView": "form",
        "colab": {}
      },
      "cell_type": "code",
      "source": [
        "#@title Run this cell to submit your notebook for grading { vertical-output: true }\n",
        "try:\n",
        "  if submission_id:\n",
        "      return_id = submit_notebook()\n",
        "      if return_id : submission_id =return_id\n",
        "  else:\n",
        "      print(\"Please complete the setup first.\")\n",
        "except NameError:\n",
        "  print (\"Please complete the setup first.\")"
      ],
      "execution_count": 0,
      "outputs": []
    },
    {
      "metadata": {
        "id": "vFu2M4kV9i3u",
        "colab_type": "code",
        "colab": {}
      },
      "cell_type": "code",
      "source": [
        ""
      ],
      "execution_count": 0,
      "outputs": []
    }
  ]
}