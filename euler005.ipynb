{
  "nbformat": 4,
  "nbformat_minor": 0,
  "metadata": {
    "colab": {
      "name": "euler005.ipynb",
      "version": "0.3.2",
      "provenance": [],
      "include_colab_link": true
    },
    "kernelspec": {
      "display_name": "Python 3",
      "language": "python",
      "name": "python3"
    }
  },
  "cells": [
    {
      "cell_type": "markdown",
      "metadata": {
        "id": "view-in-github",
        "colab_type": "text"
      },
      "source": [
        "<a href=\"https://colab.research.google.com/github/aemani/Python-Code-samples/blob/master/euler005.ipynb\" target=\"_parent\"><img src=\"https://colab.research.google.com/assets/colab-badge.svg\" alt=\"Open In Colab\"/></a>"
      ]
    },
    {
      "metadata": {
        "id": "BB4Ex4uRFtWG",
        "colab_type": "text"
      },
      "cell_type": "markdown",
      "source": [
        "# Euler 5\n",
        "2520 is the smallest number that can be divided by each of the numbers from 1 to 10 without any remainder.\n",
        "\n",
        "What is the smallest positive number that is evenly divisible by all of the numbers from 1 to 20?"
      ]
    },
    {
      "metadata": {
        "id": "ZSb0CvMlFtWH",
        "colab_type": "code",
        "outputId": "1a8f8184-e89e-467d-de41-4cd8b0385587",
        "colab": {
          "base_uri": "https://localhost:8080/",
          "height": 34
        }
      },
      "cell_type": "code",
      "source": [
        "## Brute force\n",
        "## One of the WORST ideas \n",
        "## WILL take quite a bit of time\n",
        "def divisible_11to20(n):\n",
        "    '''Checks if the given number is divisible by all numbers \n",
        "    between 11 and 20, both included'''\n",
        "    for div in range(11, 21):\n",
        "        if n % div != 0:\n",
        "            return False\n",
        "    return True\n",
        "START = 2520 ## Given in problem; so answer must be > START\n",
        "\n",
        "p = START\n",
        "while not divisible_11to20(p):\n",
        "    p += 1\n",
        "print(p)"
      ],
      "execution_count": 0,
      "outputs": [
        {
          "output_type": "stream",
          "text": [
            "232792560\n"
          ],
          "name": "stdout"
        }
      ]
    },
    {
      "metadata": {
        "id": "8LalyxdrFtWN",
        "colab_type": "code",
        "colab": {}
      },
      "cell_type": "code",
      "source": [
        "## Recognise we are looking for lcm\n",
        "def lcm2(a, b):\n",
        "    import math\n",
        "    return a * b // math.gcd(a, b)"
      ],
      "execution_count": 0,
      "outputs": []
    },
    {
      "metadata": {
        "id": "tiPMhPAYFtWU",
        "colab_type": "code",
        "outputId": "f4bd31d2-5e64-4c5a-cd5b-02a1876c1326",
        "colab": {
          "base_uri": "https://localhost:8080/",
          "height": 34
        }
      },
      "cell_type": "code",
      "source": [
        "lcm2(11, 10)"
      ],
      "execution_count": 0,
      "outputs": [
        {
          "output_type": "execute_result",
          "data": {
            "text/plain": [
              "110"
            ]
          },
          "metadata": {
            "tags": []
          },
          "execution_count": 3
        }
      ]
    },
    {
      "metadata": {
        "id": "gks6cV74FtWb",
        "colab_type": "code",
        "outputId": "51572bb0-8e0c-4547-c741-fbc6e22c5c2f",
        "colab": {
          "base_uri": "https://localhost:8080/",
          "height": 34
        }
      },
      "cell_type": "code",
      "source": [
        "lcm2(26, 65)"
      ],
      "execution_count": 0,
      "outputs": [
        {
          "output_type": "execute_result",
          "data": {
            "text/plain": [
              "130"
            ]
          },
          "metadata": {
            "tags": []
          },
          "execution_count": 4
        }
      ]
    },
    {
      "metadata": {
        "id": "oBvIusJXFtWx",
        "colab_type": "code",
        "outputId": "f0899344-c832-40d9-c349-2a8a9e55773f",
        "colab": {
          "base_uri": "https://localhost:8080/",
          "height": 34
        }
      },
      "cell_type": "code",
      "source": [
        "### Loop over 11 to 20 finding the new lcm\n",
        "sofar = 2520\n",
        "for n in range(11, 21):\n",
        "    sofar = lcm2(sofar, n)\n",
        "print(sofar)"
      ],
      "execution_count": 0,
      "outputs": [
        {
          "output_type": "stream",
          "text": [
            "232792560\n"
          ],
          "name": "stdout"
        }
      ]
    },
    {
      "metadata": {
        "id": "atbalsXeFtW5",
        "colab_type": "code",
        "colab": {}
      },
      "cell_type": "code",
      "source": [
        "def lcm(many):\n",
        "    '''Finds the lcm of a list of numbers'''\n",
        "    answer = many[0]\n",
        "    for n in many[1:]:\n",
        "        answer = lcm2(answer, n)\n",
        "    return answer"
      ],
      "execution_count": 0,
      "outputs": []
    },
    {
      "metadata": {
        "id": "ctxyX2f9FtXC",
        "colab_type": "code",
        "outputId": "b26e2e08-f828-4bb2-9e79-a2c688888b71",
        "colab": {
          "base_uri": "https://localhost:8080/",
          "height": 34
        }
      },
      "cell_type": "code",
      "source": [
        "lcm(range(1, 10))"
      ],
      "execution_count": 0,
      "outputs": [
        {
          "output_type": "execute_result",
          "data": {
            "text/plain": [
              "2520"
            ]
          },
          "metadata": {
            "tags": []
          },
          "execution_count": 7
        }
      ]
    },
    {
      "metadata": {
        "id": "lXLWHA4nFtXP",
        "colab_type": "code",
        "outputId": "f0c7a684-499c-47cd-ce87-11b3203a56a4",
        "colab": {
          "base_uri": "https://localhost:8080/",
          "height": 34
        }
      },
      "cell_type": "code",
      "source": [
        "print(lcm2(2520, lcm(range(11, 21))))"
      ],
      "execution_count": 0,
      "outputs": [
        {
          "output_type": "stream",
          "text": [
            "232792560\n"
          ],
          "name": "stdout"
        }
      ]
    },
    {
      "metadata": {
        "id": "ZX_JXGNBFtXX",
        "colab_type": "code",
        "colab": {}
      },
      "cell_type": "code",
      "source": [
        "### Recursive lcm\n",
        "def lcmr(many):\n",
        "    if len(many) == 1:\n",
        "        return many[0]\n",
        "    if len(many) == 2:\n",
        "        return lcm2(many[0], many[1])\n",
        "    return lcm2(lcm2(many[0], many[1]), lcmr(many[2:]))"
      ],
      "execution_count": 0,
      "outputs": []
    },
    {
      "metadata": {
        "id": "UQzNoLwUFtXc",
        "colab_type": "code",
        "outputId": "1b6bc509-51dc-403e-c4ea-6332d85e1940",
        "colab": {
          "base_uri": "https://localhost:8080/",
          "height": 34
        }
      },
      "cell_type": "code",
      "source": [
        "lcmr(range(1, 10))"
      ],
      "execution_count": 0,
      "outputs": [
        {
          "output_type": "execute_result",
          "data": {
            "text/plain": [
              "2520"
            ]
          },
          "metadata": {
            "tags": []
          },
          "execution_count": 10
        }
      ]
    },
    {
      "metadata": {
        "id": "QXRZWgipFtXj",
        "colab_type": "code",
        "outputId": "837217a1-7cb1-451e-c97b-baf142c38624",
        "colab": {
          "base_uri": "https://localhost:8080/",
          "height": 34
        }
      },
      "cell_type": "code",
      "source": [
        "print(lcmr(range(1, 21)))"
      ],
      "execution_count": 0,
      "outputs": [
        {
          "output_type": "stream",
          "text": [
            "232792560\n"
          ],
          "name": "stdout"
        }
      ]
    },
    {
      "metadata": {
        "id": "KpwEFDbdFtXn",
        "colab_type": "code",
        "colab": {}
      },
      "cell_type": "code",
      "source": [
        "### ADVANCED\n",
        "### functional lcm :: Using reduce\n",
        "from functools import reduce\n",
        "def lcmf(many):\n",
        "    return reduce(lcm2, many)"
      ],
      "execution_count": 0,
      "outputs": []
    },
    {
      "metadata": {
        "id": "g_oQkvFKFtXq",
        "colab_type": "code",
        "outputId": "c01667e6-546e-4aff-c8ae-5422a2c8dfc4",
        "colab": {
          "base_uri": "https://localhost:8080/",
          "height": 34
        }
      },
      "cell_type": "code",
      "source": [
        "lcmf(range(1, 10))"
      ],
      "execution_count": 0,
      "outputs": [
        {
          "output_type": "execute_result",
          "data": {
            "text/plain": [
              "2520"
            ]
          },
          "metadata": {
            "tags": []
          },
          "execution_count": 13
        }
      ]
    },
    {
      "metadata": {
        "id": "GEJuGjAOFtXu",
        "colab_type": "code",
        "colab": {}
      },
      "cell_type": "code",
      "source": [
        "data = [2520] + list(range(11, 21))"
      ],
      "execution_count": 0,
      "outputs": []
    },
    {
      "metadata": {
        "id": "kJJI-f7nFtX0",
        "colab_type": "code",
        "outputId": "1cfdb99a-b83e-416d-e1c4-97203b99440a",
        "colab": {
          "base_uri": "https://localhost:8080/",
          "height": 34
        }
      },
      "cell_type": "code",
      "source": [
        "lcmf(data)"
      ],
      "execution_count": 0,
      "outputs": [
        {
          "output_type": "execute_result",
          "data": {
            "text/plain": [
              "232792560"
            ]
          },
          "metadata": {
            "tags": []
          },
          "execution_count": 16
        }
      ]
    },
    {
      "metadata": {
        "id": "pNw1whskFtX7",
        "colab_type": "code",
        "colab": {}
      },
      "cell_type": "code",
      "source": [
        ""
      ],
      "execution_count": 0,
      "outputs": []
    }
  ]
}