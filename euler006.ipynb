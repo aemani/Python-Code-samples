{
  "nbformat": 4,
  "nbformat_minor": 0,
  "metadata": {
    "colab": {
      "name": "euler006.ipynb",
      "version": "0.3.2",
      "provenance": [],
      "include_colab_link": true
    },
    "kernelspec": {
      "display_name": "Python 3",
      "language": "python",
      "name": "python3"
    }
  },
  "cells": [
    {
      "cell_type": "markdown",
      "metadata": {
        "id": "view-in-github",
        "colab_type": "text"
      },
      "source": [
        "<a href=\"https://colab.research.google.com/github/aemani/Python-Code-samples/blob/master/euler006.ipynb\" target=\"_parent\"><img src=\"https://colab.research.google.com/assets/colab-badge.svg\" alt=\"Open In Colab\"/></a>"
      ]
    },
    {
      "metadata": {
        "id": "sYiubwiua9T7",
        "colab_type": "text"
      },
      "cell_type": "markdown",
      "source": [
        "# Euler 8\n",
        "\n",
        "The four adjacent digits in the 1000-digit number that have the greatest product are 9 × 9 × 8 × 9 = 5832.\n",
        "\n",
        "73167176531330624919225119674426574742355349194934\n",
        "96983520312774506326239578318016984801869478851843\n",
        "85861560789112949495459501737958331952853208805511\n",
        "12540698747158523863050715693290963295227443043557\n",
        "66896648950445244523161731856403098711121722383113\n",
        "62229893423380308135336276614282806444486645238749\n",
        "30358907296290491560440772390713810515859307960866\n",
        "70172427121883998797908792274921901699720888093776\n",
        "65727333001053367881220235421809751254540594752243\n",
        "52584907711670556013604839586446706324415722155397\n",
        "53697817977846174064955149290862569321978468622482\n",
        "83972241375657056057490261407972968652414535100474\n",
        "82166370484403199890008895243450658541227588666881\n",
        "16427171479924442928230863465674813919123162824586\n",
        "17866458359124566529476545682848912883142607690042\n",
        "24219022671055626321111109370544217506941658960408\n",
        "07198403850962455444362981230987879927244284909188\n",
        "84580156166097919133875499200524063689912560717606\n",
        "05886116467109405077541002256983155200055935729725\n",
        "71636269561882670428252483600823257530420752963450\n",
        "\n",
        "Find the thirteen adjacent digits in the 1000-digit number that have the greatest product. What is the value of this product?"
      ]
    },
    {
      "metadata": {
        "id": "-vRILv3qa9T9",
        "colab_type": "code",
        "colab": {}
      },
      "cell_type": "code",
      "source": [
        "mdigits = \"73167176531330624919225119674426574742355349194934\\\n",
        "96983520312774506326239578318016984801869478851843\\\n",
        "85861560789112949495459501737958331952853208805511\\\n",
        "12540698747158523863050715693290963295227443043557\\\n",
        "66896648950445244523161731856403098711121722383113\\\n",
        "62229893423380308135336276614282806444486645238749\\\n",
        "30358907296290491560440772390713810515859307960866\\\n",
        "70172427121883998797908792274921901699720888093776\\\n",
        "65727333001053367881220235421809751254540594752243\\\n",
        "52584907711670556013604839586446706324415722155397\\\n",
        "53697817977846174064955149290862569321978468622482\\\n",
        "83972241375657056057490261407972968652414535100474\\\n",
        "82166370484403199890008895243450658541227588666881\\\n",
        "16427171479924442928230863465674813919123162824586\\\n",
        "17866458359124566529476545682848912883142607690042\\\n",
        "24219022671055626321111109370544217506941658960408\\\n",
        "07198403850962455444362981230987879927244284909188\\\n",
        "84580156166097919133875499200524063689912560717606\\\n",
        "05886116467109405077541002256983155200055935729725\\\n",
        "71636269561882670428252483600823257530420752963450\""
      ],
      "execution_count": 0,
      "outputs": []
    },
    {
      "metadata": {
        "id": "h9Cls1aGa9UC",
        "colab_type": "code",
        "colab": {}
      },
      "cell_type": "code",
      "source": [
        "### Write a function that takes a string of numbers and multiplies all of them\n",
        "### irrespective of length\n",
        "def product(s):\n",
        "    if '0' in s:\n",
        "        return 0\n",
        "    p = 1\n",
        "    for ch in s:\n",
        "        p = p * int(ch)\n",
        "    return p"
      ],
      "execution_count": 0,
      "outputs": []
    },
    {
      "metadata": {
        "id": "BoM9bfuBa9UG",
        "colab_type": "code",
        "colab": {},
        "outputId": "a25ada17-b30d-46a2-ed94-dfada86fd31b"
      },
      "cell_type": "code",
      "source": [
        "### Assembling products using for loop\n",
        "### Verifying with the data given\n",
        "SIZE = 4\n",
        "products = []\n",
        "for start in range(len(mdigits) - SIZE + 1):\n",
        "    products.append(product(mdigits[start:start+SIZE]))\n",
        "print(max(products))"
      ],
      "execution_count": 0,
      "outputs": [
        {
          "output_type": "stream",
          "text": [
            "5832\n"
          ],
          "name": "stdout"
        }
      ]
    },
    {
      "metadata": {
        "id": "WdYjb_tDa9UQ",
        "colab_type": "code",
        "colab": {},
        "outputId": "69c76f28-353c-4937-dd26-c090ac46170f"
      },
      "cell_type": "code",
      "source": [
        "SIZE = 13\n",
        "products = []\n",
        "for start in range(len(mdigits) - SIZE + 1):\n",
        "    products.append(product(mdigits[start:start+SIZE]))\n",
        "print(max(products))"
      ],
      "execution_count": 0,
      "outputs": [
        {
          "output_type": "stream",
          "text": [
            "23514624000\n"
          ],
          "name": "stdout"
        }
      ]
    },
    {
      "metadata": {
        "id": "0d6Ul6Hwa9Ud",
        "colab_type": "code",
        "colab": {}
      },
      "cell_type": "code",
      "source": [
        ""
      ],
      "execution_count": 0,
      "outputs": []
    }
  ]
}