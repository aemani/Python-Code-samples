{
  "nbformat": 4,
  "nbformat_minor": 0,
  "metadata": {
    "colab": {
      "name": "Python_Jumpstart_1.ipynb",
      "version": "0.3.2",
      "provenance": [],
      "include_colab_link": true
    },
    "kernelspec": {
      "display_name": "Python 3",
      "language": "python",
      "name": "python3"
    }
  },
  "cells": [
    {
      "cell_type": "markdown",
      "metadata": {
        "id": "view-in-github",
        "colab_type": "text"
      },
      "source": [
        "<a href=\"https://colab.research.google.com/github/aemani/Python-Code-samples/blob/master/Python_Jumpstart_1.ipynb\" target=\"_parent\"><img src=\"https://colab.research.google.com/assets/colab-badge.svg\" alt=\"Open In Colab\"/></a>"
      ]
    },
    {
      "metadata": {
        "id": "ctQdZ2_zZGJy",
        "colab_type": "text"
      },
      "cell_type": "markdown",
      "source": [
        "# Python Jumpstart\n",
        "## Part 1\n",
        "### Quick Review"
      ]
    },
    {
      "metadata": {
        "id": "vd-cSMYiZGJ1",
        "colab_type": "text"
      },
      "cell_type": "markdown",
      "source": [
        "### History\n",
        "### Why Python?\n",
        "### Scalar Data Types\n",
        "### Sequence Data Types\n",
        "### Basic I/O"
      ]
    },
    {
      "metadata": {
        "id": "J7TcShurZGJ5",
        "colab_type": "text"
      },
      "cell_type": "markdown",
      "source": [
        "### Dynamically typed  ⬄ Strongly typed\n",
        "#### No variable declaration"
      ]
    },
    {
      "metadata": {
        "id": "JxbO4Be5ZGJ8",
        "colab_type": "code",
        "colab": {},
        "outputId": "69f21f55-ba34-46c7-c6e1-2280d30ad9a1"
      },
      "cell_type": "code",
      "source": [
        "a = 17\n",
        "b = \"Hello\"\n",
        "c = a + b"
      ],
      "execution_count": 0,
      "outputs": [
        {
          "output_type": "error",
          "ename": "TypeError",
          "evalue": "unsupported operand type(s) for +: 'int' and 'str'",
          "traceback": [
            "\u001b[0;31m---------------------------------------------------------------------------\u001b[0m",
            "\u001b[0;31mTypeError\u001b[0m                                 Traceback (most recent call last)",
            "\u001b[0;32m<ipython-input-1-7b8d318e7389>\u001b[0m in \u001b[0;36m<module>\u001b[0;34m\u001b[0m\n\u001b[1;32m      1\u001b[0m \u001b[0ma\u001b[0m \u001b[0;34m=\u001b[0m \u001b[0;36m17\u001b[0m\u001b[0;34m\u001b[0m\u001b[0;34m\u001b[0m\u001b[0m\n\u001b[1;32m      2\u001b[0m \u001b[0mb\u001b[0m \u001b[0;34m=\u001b[0m \u001b[0;34m\"Hello\"\u001b[0m\u001b[0;34m\u001b[0m\u001b[0;34m\u001b[0m\u001b[0m\n\u001b[0;32m----> 3\u001b[0;31m \u001b[0mc\u001b[0m \u001b[0;34m=\u001b[0m \u001b[0ma\u001b[0m \u001b[0;34m+\u001b[0m \u001b[0mb\u001b[0m\u001b[0;34m\u001b[0m\u001b[0;34m\u001b[0m\u001b[0m\n\u001b[0m",
            "\u001b[0;31mTypeError\u001b[0m: unsupported operand type(s) for +: 'int' and 'str'"
          ]
        }
      ]
    },
    {
      "metadata": {
        "id": "JQO2U9KqZGKE",
        "colab_type": "code",
        "colab": {},
        "outputId": "15a2fa5e-05da-4e5a-a442-cd4856a229a5"
      },
      "cell_type": "code",
      "source": [
        "c = a + d"
      ],
      "execution_count": 0,
      "outputs": [
        {
          "output_type": "error",
          "ename": "NameError",
          "evalue": "name 'd' is not defined",
          "traceback": [
            "\u001b[0;31m---------------------------------------------------------------------------\u001b[0m",
            "\u001b[0;31mNameError\u001b[0m                                 Traceback (most recent call last)",
            "\u001b[0;32m<ipython-input-2-a768ab610d41>\u001b[0m in \u001b[0;36m<module>\u001b[0;34m\u001b[0m\n\u001b[0;32m----> 1\u001b[0;31m \u001b[0mc\u001b[0m \u001b[0;34m=\u001b[0m \u001b[0ma\u001b[0m \u001b[0;34m+\u001b[0m \u001b[0md\u001b[0m\u001b[0;34m\u001b[0m\u001b[0;34m\u001b[0m\u001b[0m\n\u001b[0m",
            "\u001b[0;31mNameError\u001b[0m: name 'd' is not defined"
          ]
        }
      ]
    },
    {
      "metadata": {
        "id": "HNblZ3qoZGKK",
        "colab_type": "text"
      },
      "cell_type": "markdown",
      "source": [
        "### Scalar Data Types\n",
        "\n",
        " * Integers\n",
        " * Floats\n",
        " * Booleans\n",
        " * Complex"
      ]
    },
    {
      "metadata": {
        "id": "xt59nU4kZGKM",
        "colab_type": "text"
      },
      "cell_type": "markdown",
      "source": [
        "#### Integers\n",
        "  * No limit\n",
        "  * Usual operators: + PLUS, - MINUS, * STAR and % PERCENTAGE\n",
        "  * Different operators: \n",
        "     - / SLASH for floating division\n",
        "     - // DOUBLE SLASH for truncating division\n",
        "     - ** DOUBLE STAR for exponentiation\n",
        "  * assignment operators\n",
        "     - x ⊙= y ⇨ x = x ⊙ y"
      ]
    },
    {
      "metadata": {
        "id": "jbBcjrhNZGKO",
        "colab_type": "text"
      },
      "cell_type": "markdown",
      "source": [
        "#### Floats\n",
        "  * Same as C double!\n",
        "  * With the usual troubles"
      ]
    },
    {
      "metadata": {
        "id": "7eqmjnegZGKQ",
        "colab_type": "code",
        "colab": {},
        "outputId": "23527658-721e-403c-d749-c31a0934bd1f"
      },
      "cell_type": "code",
      "source": [
        "x = 12.9\n",
        "y = 3.6\n",
        "print(x * y)"
      ],
      "execution_count": 0,
      "outputs": [
        {
          "output_type": "stream",
          "text": [
            "46.440000000000005\n"
          ],
          "name": "stdout"
        }
      ]
    },
    {
      "metadata": {
        "id": "uQwxuLkIZGKW",
        "colab_type": "text"
      },
      "cell_type": "markdown",
      "source": [
        "#### Booleans\n",
        "   * True\n",
        "   * False\n",
        "   * Usual operators:\n",
        "     - ==, !=\n",
        "     - <, <=, >, >=\n",
        "   * Additionally, \n",
        "     - 0 < க < 9\n",
        "     - 0 < க < வ < 12\n",
        "   "
      ]
    },
    {
      "metadata": {
        "id": "mxm4thCIZGKX",
        "colab_type": "text"
      },
      "cell_type": "markdown",
      "source": [
        "#### Complex\n",
        "   * uses j for $\\sqrt{-1}$ 😠\n",
        "   "
      ]
    },
    {
      "metadata": {
        "id": "tt0sAHpgZGKZ",
        "colab_type": "code",
        "colab": {},
        "outputId": "14138c7f-5aab-4271-e5b4-fb92ac3cbcea"
      },
      "cell_type": "code",
      "source": [
        "α = 7.1 + 4.3j\n",
        "β = -2.5 + 6.4j\n",
        "γ = α + β\n",
        "print(γ)\n",
        "print(α * β)"
      ],
      "execution_count": 0,
      "outputs": [
        {
          "output_type": "stream",
          "text": [
            "(4.6+10.7j)\n",
            "(-45.269999999999996+34.69j)\n"
          ],
          "name": "stdout"
        }
      ]
    },
    {
      "metadata": {
        "id": "h5OCQnNvZGKe",
        "colab_type": "text"
      },
      "cell_type": "markdown",
      "source": [
        "## Sequence data types\n",
        "  * Lists\n",
        "  * Strings\n",
        "  * Tuples\n",
        "  * Arrays?"
      ]
    },
    {
      "metadata": {
        "id": "9hUhI33DZGKg",
        "colab_type": "text"
      },
      "cell_type": "markdown",
      "source": [
        "### Lists\n",
        "  * Standard heterogenous collection\n",
        "  * enclosed within []'s\n",
        "  * accessed using [index] notation\n",
        "    - indices: 0 .. size-1\n",
        "    - negative indices\n",
        "  * rich set of operations\n",
        "    - append(), extend(), insert()\n",
        "    - remove(), pop()\n",
        "    - in, index(), count()\n",
        "    - be careful about the mutators: sort(), reverse()"
      ]
    },
    {
      "metadata": {
        "id": "54_48QnxZGKi",
        "colab_type": "code",
        "colab": {},
        "outputId": "8c44c4cf-2e00-410d-d60e-96deeacea02d"
      },
      "cell_type": "code",
      "source": [
        "a = [1, 3, 2, 4]\n",
        "print(1 in a)\n",
        "print(5 in a)\n",
        "a = a.sort()\n",
        "print(a)"
      ],
      "execution_count": 0,
      "outputs": [
        {
          "output_type": "stream",
          "text": [
            "True\n",
            "False\n",
            "None\n"
          ],
          "name": "stdout"
        }
      ]
    },
    {
      "metadata": {
        "id": "i26_CSVnZGKo",
        "colab_type": "code",
        "colab": {},
        "outputId": "7b131000-cdf5-4926-dd6f-db78665f39ad"
      },
      "cell_type": "code",
      "source": [
        "a = [1, 3, 2, 4]\n",
        "a.sort()\n",
        "print(a)"
      ],
      "execution_count": 0,
      "outputs": [
        {
          "output_type": "stream",
          "text": [
            "[1, 2, 3, 4]\n"
          ],
          "name": "stdout"
        }
      ]
    },
    {
      "metadata": {
        "id": "md9MmrW1ZGKu",
        "colab_type": "text"
      },
      "cell_type": "markdown",
      "source": [
        "#### Implementation note\n",
        "   * contiguous arrays of pointers--dynamically grown\n",
        "   * append(), pop() are fast\n",
        "   * insert() and pop(i) are slow"
      ]
    },
    {
      "metadata": {
        "id": "h8S1E7EeZGKw",
        "colab_type": "text"
      },
      "cell_type": "markdown",
      "source": [
        "### Strings\n",
        "  - Can be single quoted\n",
        "  - Or double quoted!\n",
        "  - Or triple quoted!!\n",
        "       * with single quotes\n",
        "       * or double quotes\n",
        "  - IMMUTABLE\n",
        "  - \\+ for concatenation\n",
        "  - \\* for repetition"
      ]
    },
    {
      "metadata": {
        "id": "S0oSJg0GZGKy",
        "colab_type": "code",
        "colab": {}
      },
      "cell_type": "code",
      "source": [
        "a = \"Hello World!\"\n",
        "b = \"I'm happy to use Python\"\n",
        "c = 'GvR says, \"Readability counts\" and Python shines here'\n",
        "d = \"\"\" Long long ago, in a galaxy far far away ...\n",
        "    It is a period of civil war. Rebel spaceships, striking from a hidden\n",
        "    base, have won their first victory against the evil Galactic Empire. \n",
        "    During the battle, Rebel spies managed to steal secret plans to the\n",
        "    Empire’s ultimate weapon, the DEATH STAR, an armored space station \n",
        "    with enough power to destroy an entire planet. ….\"\"\""
      ],
      "execution_count": 0,
      "outputs": []
    },
    {
      "metadata": {
        "id": "-E4Yj2wpZGK6",
        "colab_type": "text"
      },
      "cell_type": "markdown",
      "source": [
        "#### String methods\n",
        "  * lower(), upper(), title(), capitalize(), swapcase()\n",
        "  * in, startsWith(), endsWith()\n",
        "  * find(), index(), count()\n",
        "  * just(), center()\n",
        "  * split(), join()\n",
        "  * strip()\n",
        "  * translate(), encode()\n",
        "  * is...()\n",
        "  * Formatting"
      ]
    },
    {
      "metadata": {
        "id": "rMWM0SeTZGK8",
        "colab_type": "text"
      },
      "cell_type": "markdown",
      "source": [
        "### Slicing and Striding\n"
      ]
    },
    {
      "metadata": {
        "id": "aL_xRmgQZGK-",
        "colab_type": "code",
        "colab": {},
        "outputId": "3065ed1e-41ac-4283-8b1d-77f9de2c2cac"
      },
      "cell_type": "code",
      "source": [
        "f = [0, 1, 1, 2, 3, 5, 8, 13, 21, 34]\n",
        "print(f[3:6])\n",
        "print(f[:7])\n",
        "print(f[5:])\n",
        "print(f[1:-1])"
      ],
      "execution_count": 0,
      "outputs": [
        {
          "output_type": "stream",
          "text": [
            "[2, 3, 5]\n",
            "[0, 1, 1, 2, 3, 5, 8]\n",
            "[5, 8, 13, 21, 34]\n",
            "[1, 1, 2, 3, 5, 8, 13, 21]\n"
          ],
          "name": "stdout"
        }
      ]
    },
    {
      "metadata": {
        "id": "X4I6_cuFZGLI",
        "colab_type": "code",
        "colab": {},
        "outputId": "61563863-9691-4c47-cba4-2cc08a983773"
      },
      "cell_type": "code",
      "source": [
        "print(f[1::3])\n",
        "print(f[::2])\n",
        "print(f[::-1])"
      ],
      "execution_count": 0,
      "outputs": [
        {
          "output_type": "stream",
          "text": [
            "[1, 3, 13]\n",
            "[0, 1, 3, 8, 21]\n",
            "[34, 21, 13, 8, 5, 3, 2, 1, 1, 0]\n"
          ],
          "name": "stdout"
        }
      ]
    },
    {
      "metadata": {
        "id": "wrUOnHg9ZGLY",
        "colab_type": "text"
      },
      "cell_type": "markdown",
      "source": [
        "### Tuples\n",
        "  * Immutable, heterogenous\n",
        "  * Best thought of as records/structures\n",
        "  * enclosed in parentheses\n",
        "  * separated by comma\n",
        "  * auto packing and unpacking"
      ]
    },
    {
      "metadata": {
        "id": "z0jNs5iJZGLa",
        "colab_type": "code",
        "colab": {},
        "outputId": "5a0ae766-5a81-4679-dba3-c0b8e0dcae6b"
      },
      "cell_type": "code",
      "source": [
        "a = 17\n",
        "b = 23\n",
        "a, b = b, a\n",
        "print(a, b)"
      ],
      "execution_count": 0,
      "outputs": [
        {
          "output_type": "stream",
          "text": [
            "23 17\n"
          ],
          "name": "stdout"
        }
      ]
    },
    {
      "metadata": {
        "id": "up-wpg-lZGLq",
        "colab_type": "code",
        "colab": {},
        "outputId": "d1622812-4324-49eb-96d6-81a865fe585e"
      },
      "cell_type": "code",
      "source": [
        "α = \"Hello\"\n",
        "β = \"World!\"\n",
        "க = 42 \n",
        "α, β = β, α\n",
        "print(α, β)\n",
        "க, β = β, க\n",
        "print(க, β)"
      ],
      "execution_count": 0,
      "outputs": [
        {
          "output_type": "stream",
          "text": [
            "World! Hello\n",
            "Hello 42\n"
          ],
          "name": "stdout"
        }
      ]
    },
    {
      "metadata": {
        "id": "1cyke_EaZGLx",
        "colab_type": "code",
        "colab": {},
        "outputId": "06924ce6-a868-40f2-9f55-fa553e75ac94"
      },
      "cell_type": "code",
      "source": [
        "a, b, n = 12, 10, 0\n",
        "x = (12, 10, 0)\n",
        "print(x[0])"
      ],
      "execution_count": 0,
      "outputs": [
        {
          "output_type": "stream",
          "text": [
            "12\n"
          ],
          "name": "stdout"
        }
      ]
    },
    {
      "metadata": {
        "id": "CgvVc8bEZGL2",
        "colab_type": "text"
      },
      "cell_type": "markdown",
      "source": [
        "### Simple Input Output\n",
        "  * input() for reading from stdin\n",
        "    - can take a prompt\n",
        "  * print() for writing to stdout\n",
        "  * print() + string formatting"
      ]
    }
  ]
}