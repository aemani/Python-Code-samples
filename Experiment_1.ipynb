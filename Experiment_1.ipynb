{
  "nbformat": 4,
  "nbformat_minor": 0,
  "metadata": {
    "colab": {
      "name": "Experiment_1.ipynb",
      "version": "0.3.2",
      "provenance": [],
      "collapsed_sections": [],
      "include_colab_link": true
    },
    "kernelspec": {
      "name": "python3",
      "display_name": "Python 3"
    }
  },
  "cells": [
    {
      "cell_type": "markdown",
      "metadata": {
        "id": "view-in-github",
        "colab_type": "text"
      },
      "source": [
        "<a href=\"https://colab.research.google.com/github/aemani/Python-Code-samples/blob/master/Experiment_1.ipynb\" target=\"_parent\"><img src=\"https://colab.research.google.com/assets/colab-badge.svg\" alt=\"Open In Colab\"/></a>"
      ]
    },
    {
      "metadata": {
        "id": "qN1AObwcp7jn",
        "colab_type": "text"
      },
      "cell_type": "markdown",
      "source": [
        "\n",
        "\n",
        "\n",
        "# Advanced Certification in AIML\n",
        "## A Program by IIIT-H and TalentSprint"
      ]
    },
    {
      "metadata": {
        "id": "4qYYo-FBq1fG",
        "colab_type": "text"
      },
      "cell_type": "markdown",
      "source": [
        "## Setup Steps:"
      ]
    },
    {
      "metadata": {
        "id": "2CUY8jXsrLq2",
        "colab_type": "code",
        "colab": {}
      },
      "cell_type": "code",
      "source": [
        "#@title Please enter your registration id to start: (e.g. P181900101) { run: \"auto\", display-mode: \"form\" }\n",
        "Id = \"\" #@param {type:\"string\"}\n"
      ],
      "execution_count": 0,
      "outputs": []
    },
    {
      "metadata": {
        "id": "NvRBa2zqrTeB",
        "colab_type": "code",
        "colab": {}
      },
      "cell_type": "code",
      "source": [
        "#@title Please enter your password (normally your phone number) to continue: { run: \"auto\", display-mode: \"form\" }\n",
        "password = \"\" #@param {type:\"string\"}\n"
      ],
      "execution_count": 0,
      "outputs": []
    },
    {
      "metadata": {
        "id": "s25tdnJ0ry5H",
        "colab_type": "code",
        "cellView": "form",
        "outputId": "4b155086-88b1-48de-8e11-5f384b66139d",
        "colab": {
          "base_uri": "https://localhost:8080/",
          "height": 33
        }
      },
      "cell_type": "code",
      "source": [
        "#@title Run this cell to complete the setup for this Notebook\n",
        "\n",
        "from IPython import get_ipython\n",
        "ipython = get_ipython()\n",
        "  \n",
        "notebook=\"M0W1_EXP_1_PythonBasics\" #name of the notebook\n",
        "\n",
        "def setup():\n",
        "#  ipython.magic(\"sx pip3 install torch\")\n",
        "   \n",
        "    print (\"Setup completed successfully\")\n",
        "    return\n",
        "\n",
        "def submit_notebook():\n",
        "    \n",
        "    ipython.magic(\"notebook -e \"+ notebook + \".ipynb\")\n",
        "    \n",
        "    import requests, json, base64, datetime\n",
        "\n",
        "    url = \"https://dashboard.talentsprint.com/xp/app/save_notebook_attempts\"\n",
        "    if not submission_id:\n",
        "      data = {\"id\" : getId(), \"notebook\" : notebook, \"mobile\" : getPassword()}\n",
        "      r = requests.post(url, data = data)\n",
        "      r = json.loads(r.text)\n",
        "\n",
        "      if r[\"status\"] == \"Success\":\n",
        "          return r[\"record_id\"]\n",
        "      elif \"err\" in r:        \n",
        "        print(r[\"err\"])\n",
        "        return None        \n",
        "      else:\n",
        "        print (\"Something is wrong, the notebook will not be submitted for grading\")\n",
        "        return None\n",
        "\n",
        "    elif getAnswer() and getComplexity() and getAdditional() and getConcepts():\n",
        "      f = open(notebook + \".ipynb\", \"rb\")\n",
        "      file_hash = base64.b64encode(f.read())\n",
        "\n",
        "      data = {\"complexity\" : Complexity, \"additional\" :Additional, \n",
        "              \"concepts\" : Concepts, \"record_id\" : submission_id, \n",
        "              \"answer\" : Answer, \"id\" : Id, \"file_hash\" : file_hash,\n",
        "              \"notebook\" : notebook}\n",
        "\n",
        "      r = requests.post(url, data = data)\n",
        "      r = json.loads(r.text)\n",
        "      print(\"Your submission is successful.\")\n",
        "      print(\"Ref Id:\", submission_id)\n",
        "      print(\"Date of submission: \", r[\"date\"])\n",
        "      print(\"Time of submission: \", r[\"time\"])\n",
        "      print(\"View your submissions: https://iiith-aiml.talentsprint.com/notebook_submissions\")\n",
        "      print(\"For any queries/discrepancies, please connect with mentors through the chat icon in LMS dashboard.\")\n",
        "      return submission_id\n",
        "    else: submission_id\n",
        "    \n",
        "\n",
        "def getAdditional():\n",
        "  try:\n",
        "    if Additional: return Additional      \n",
        "    else: raise NameError('')\n",
        "  except NameError:\n",
        "    print (\"Please answer Additional Question\")\n",
        "    return None\n",
        "\n",
        "def getComplexity():\n",
        "  try:\n",
        "    return Complexity\n",
        "  except NameError:\n",
        "    print (\"Please answer Complexity Question\")\n",
        "    return None\n",
        "  \n",
        "def getConcepts():\n",
        "  try:\n",
        "    return Concepts\n",
        "  except NameError:\n",
        "    print (\"Please answer Concepts Question\")\n",
        "    return None\n",
        "\n",
        "def getAnswer():\n",
        "  try:\n",
        "    return Answer\n",
        "  except NameError:\n",
        "    print (\"Please answer Question\")\n",
        "    return None\n",
        "\n",
        "def getId():\n",
        "  try: \n",
        "    return Id if Id else None\n",
        "  except NameError:\n",
        "    return None\n",
        "\n",
        "def getPassword():\n",
        "  try:\n",
        "    return password if password else None\n",
        "  except NameError:\n",
        "    return None\n",
        "\n",
        "submission_id = None\n",
        "### Setup \n",
        "if getPassword() and getId():\n",
        "  submission_id = submit_notebook()\n",
        "  if submission_id:\n",
        "    setup()\n",
        "  \n",
        "else:\n",
        "  print (\"Please complete Id and Password cells before running setup\")\n",
        "\n"
      ],
      "execution_count": 0,
      "outputs": [
        {
          "output_type": "stream",
          "text": [
            "Setup completed successfully\n"
          ],
          "name": "stdout"
        }
      ]
    },
    {
      "metadata": {
        "id": "cVybVUCfRv3g",
        "colab_type": "text"
      },
      "cell_type": "markdown",
      "source": [
        "## Basic Types and Constructs:\n",
        "Under this section, you'll see the basic errors/misunderstanding when dealing with data types and other constructs\n",
        "\n",
        "\n",
        "NOTE: In multiple cells below you'll be asked to \"Guess\" or \"Try\". This is just to ensure that you challenge your thought process. The answers will be found right below. **There is no grading involved in this entire exercise.**"
      ]
    },
    {
      "metadata": {
        "id": "x9IoMGmRptst",
        "colab_type": "text"
      },
      "cell_type": "markdown",
      "source": [
        "## Scalar types"
      ]
    },
    {
      "metadata": {
        "id": "FsGQXQchmlsQ",
        "colab_type": "code",
        "colab": {}
      },
      "cell_type": "code",
      "source": [
        "import numpy as np"
      ],
      "execution_count": 0,
      "outputs": []
    },
    {
      "metadata": {
        "id": "9mKldghVTvvO",
        "colab_type": "code",
        "colab": {}
      },
      "cell_type": "code",
      "source": [
        "x=1\n",
        "y=2.0\n",
        "compound=x+y"
      ],
      "execution_count": 0,
      "outputs": []
    },
    {
      "metadata": {
        "id": "_ciw33-IxoEq",
        "colab_type": "text"
      },
      "cell_type": "markdown",
      "source": [
        "**Guess the type of  the variable 'compound' before running the cell below**\n"
      ]
    },
    {
      "metadata": {
        "id": "-0si-fcFT3Du",
        "colab_type": "code",
        "colab": {}
      },
      "cell_type": "code",
      "source": [
        "type(compound)"
      ],
      "execution_count": 0,
      "outputs": []
    },
    {
      "metadata": {
        "id": "mmGGuIERtI89",
        "colab_type": "text"
      },
      "cell_type": "markdown",
      "source": [
        "## String operations"
      ]
    },
    {
      "metadata": {
        "id": "EwaUb0Qq3kMN",
        "colab_type": "code",
        "colab": {}
      },
      "cell_type": "code",
      "source": [
        "testString1='AI/Machine Learning'"
      ],
      "execution_count": 0,
      "outputs": []
    },
    {
      "metadata": {
        "id": "RxAr9yp6yAEV",
        "colab_type": "text"
      },
      "cell_type": "markdown",
      "source": [
        "**Try writing a command to split the string above. Answer right below**\n"
      ]
    },
    {
      "metadata": {
        "id": "vnqYa8B537_l",
        "colab_type": "code",
        "colab": {}
      },
      "cell_type": "code",
      "source": [
        "splitTestString=testString1.split()"
      ],
      "execution_count": 0,
      "outputs": []
    },
    {
      "metadata": {
        "id": "SfpgFo9Z168x",
        "colab_type": "text"
      },
      "cell_type": "markdown",
      "source": [
        "**Guess the type of splitTestString before running the cell below**"
      ]
    },
    {
      "metadata": {
        "id": "W-LxbsME4JnD",
        "colab_type": "code",
        "colab": {}
      },
      "cell_type": "code",
      "source": [
        "type(splitTestString)"
      ],
      "execution_count": 0,
      "outputs": []
    },
    {
      "metadata": {
        "id": "s_q_BKaw4nRE",
        "colab_type": "code",
        "colab": {}
      },
      "cell_type": "code",
      "source": [
        "for output in splitTestString:\n",
        "  print(output)"
      ],
      "execution_count": 0,
      "outputs": []
    },
    {
      "metadata": {
        "id": "csrWM-452N_d",
        "colab_type": "text"
      },
      "cell_type": "markdown",
      "source": [
        "**The above output doesn't make sense right? Lets try splitting meaninglfully...**"
      ]
    },
    {
      "metadata": {
        "id": "I2zoplK-45Jt",
        "colab_type": "code",
        "colab": {}
      },
      "cell_type": "code",
      "source": [
        "meaningfulSplit=testString1.split('/')"
      ],
      "execution_count": 0,
      "outputs": []
    },
    {
      "metadata": {
        "id": "-XbSU14s5KE_",
        "colab_type": "code",
        "colab": {}
      },
      "cell_type": "code",
      "source": [
        "for output in meaningfulSplit:\n",
        "  print(output)"
      ],
      "execution_count": 0,
      "outputs": []
    },
    {
      "metadata": {
        "id": "eZbeUqxh2T23",
        "colab_type": "text"
      },
      "cell_type": "markdown",
      "source": [
        "**Try putting it back together with 'join' statement before running the cell! Answer right below:**\n"
      ]
    },
    {
      "metadata": {
        "id": "mlJpK7Sn5WBF",
        "colab_type": "code",
        "colab": {}
      },
      "cell_type": "code",
      "source": [
        "backTogether=('/').join(meaningfulSplit)"
      ],
      "execution_count": 0,
      "outputs": []
    },
    {
      "metadata": {
        "id": "yGps1lyF7hvl",
        "colab_type": "code",
        "colab": {}
      },
      "cell_type": "code",
      "source": [
        "backTogether"
      ],
      "execution_count": 0,
      "outputs": []
    },
    {
      "metadata": {
        "id": "QgRtFfj_MH9l",
        "colab_type": "text"
      },
      "cell_type": "markdown",
      "source": [
        "## Containers\n"
      ]
    },
    {
      "metadata": {
        "id": "FKVRDE-fU-ZI",
        "colab_type": "text"
      },
      "cell_type": "markdown",
      "source": [
        "### Lists"
      ]
    },
    {
      "metadata": {
        "id": "mKMKVE4h3RPp",
        "colab_type": "text"
      },
      "cell_type": "markdown",
      "source": [
        "**1)**"
      ]
    },
    {
      "metadata": {
        "id": "ewkL7r3mLPw5",
        "colab_type": "code",
        "colab": {}
      },
      "cell_type": "code",
      "source": [
        "name=\"Jessica\"\n",
        "age=20"
      ],
      "execution_count": 0,
      "outputs": []
    },
    {
      "metadata": {
        "id": "B79ebabL2hId",
        "colab_type": "text"
      },
      "cell_type": "markdown",
      "source": [
        "**Using the variables above concatenate into \"Jessica 20\"**"
      ]
    },
    {
      "metadata": {
        "id": "j0ZNsacg2o18",
        "colab_type": "code",
        "colab": {}
      },
      "cell_type": "code",
      "source": [
        "#EXERCISE (NOT GRADED): YOUR CODE HERE "
      ],
      "execution_count": 0,
      "outputs": []
    },
    {
      "metadata": {
        "id": "FT-wCCfe3a3a",
        "colab_type": "text"
      },
      "cell_type": "markdown",
      "source": [
        "**Learning: Its ensure that you match the types**"
      ]
    },
    {
      "metadata": {
        "id": "Pu1RegLx2y_6",
        "colab_type": "text"
      },
      "cell_type": "markdown",
      "source": [
        "**2)**"
      ]
    },
    {
      "metadata": {
        "id": "jiIolLsGVC--",
        "colab_type": "code",
        "colab": {}
      },
      "cell_type": "code",
      "source": [
        "someList=['a','b','c']\n",
        "\n",
        "maybeSameList=['b','c','a']"
      ],
      "execution_count": 0,
      "outputs": []
    },
    {
      "metadata": {
        "id": "3AhwerHv278G",
        "colab_type": "text"
      },
      "cell_type": "markdown",
      "source": [
        "**Guess the output before running the cell below**"
      ]
    },
    {
      "metadata": {
        "id": "0MEW-ARhVDHn",
        "colab_type": "code",
        "outputId": "4ec84f0b-5135-4a1e-ef50-abd2bea08d26",
        "colab": {
          "base_uri": "https://localhost:8080/",
          "height": 33
        }
      },
      "cell_type": "code",
      "source": [
        "someList==maybeSameList"
      ],
      "execution_count": 0,
      "outputs": [
        {
          "output_type": "execute_result",
          "data": {
            "text/plain": [
              "False"
            ]
          },
          "metadata": {
            "tags": []
          },
          "execution_count": 20
        }
      ]
    },
    {
      "metadata": {
        "id": "kX_aErxH36Ji",
        "colab_type": "text"
      },
      "cell_type": "markdown",
      "source": [
        "**Learning: Orders in the list must be preserved, to ensure equality.**"
      ]
    },
    {
      "metadata": {
        "id": "7Vbpd7iR4J7a",
        "colab_type": "text"
      },
      "cell_type": "markdown",
      "source": [
        "**3)**"
      ]
    },
    {
      "metadata": {
        "id": "tn7UmJUGVDPU",
        "colab_type": "code",
        "colab": {}
      },
      "cell_type": "code",
      "source": [
        "potPourri=['someString',1,'a flot next',3.8,'complex number now',3+4j]"
      ],
      "execution_count": 0,
      "outputs": []
    },
    {
      "metadata": {
        "id": "9sUYh98g4XJJ",
        "colab_type": "text"
      },
      "cell_type": "markdown",
      "source": [
        "**Learning: A List can contain elements belonging to different datatypes. Key to note, because numpy, pandas etc doesn't allow the same.**"
      ]
    },
    {
      "metadata": {
        "id": "s2O7gjEQXmVA",
        "colab_type": "code",
        "colab": {}
      },
      "cell_type": "code",
      "source": [
        "import math\n",
        "def someFunc():\n",
        "  someStr='hello'\n",
        "  return someStr"
      ],
      "execution_count": 0,
      "outputs": []
    },
    {
      "metadata": {
        "id": "fE6J2NLa4uCB",
        "colab_type": "text"
      },
      "cell_type": "markdown",
      "source": [
        "**Guess whether you'll run into an error before runnign the cell below**"
      ]
    },
    {
      "metadata": {
        "id": "8yWVln8XXmqm",
        "colab_type": "code",
        "colab": {}
      },
      "cell_type": "code",
      "source": [
        "exaggerate=[1,math, someFunc(),'someString']"
      ],
      "execution_count": 0,
      "outputs": []
    },
    {
      "metadata": {
        "id": "sFi9ZjkA41oO",
        "colab_type": "text"
      },
      "cell_type": "markdown",
      "source": [
        "**Learning: A list can even hold objects/methods**"
      ]
    },
    {
      "metadata": {
        "id": "p6S-sPvDYKgL",
        "colab_type": "code",
        "colab": {}
      },
      "cell_type": "code",
      "source": [
        "#We are merely using that fact to call a function residing as an element in the list \n",
        "print(exaggerate[2])"
      ],
      "execution_count": 0,
      "outputs": []
    },
    {
      "metadata": {
        "id": "zMP7LUui5EtS",
        "colab_type": "text"
      },
      "cell_type": "markdown",
      "source": [
        "**4)**"
      ]
    },
    {
      "metadata": {
        "id": "IocyyyiLZNEa",
        "colab_type": "code",
        "colab": {}
      },
      "cell_type": "code",
      "source": [
        "slur=['I','aaaa','am','ummm','fine']"
      ],
      "execution_count": 0,
      "outputs": []
    },
    {
      "metadata": {
        "id": "1w-IlZffZNAX",
        "colab_type": "code",
        "colab": {}
      },
      "cell_type": "code",
      "source": [
        "slurRemoved=slur[0:5:2]"
      ],
      "execution_count": 0,
      "outputs": []
    },
    {
      "metadata": {
        "id": "ktCPMMuL5vzO",
        "colab_type": "text"
      },
      "cell_type": "markdown",
      "source": [
        "**Guess the output before running the cell below**"
      ]
    },
    {
      "metadata": {
        "id": "6HAeBC1jZM8H",
        "colab_type": "code",
        "colab": {}
      },
      "cell_type": "code",
      "source": [
        "slurRemoved"
      ],
      "execution_count": 0,
      "outputs": []
    },
    {
      "metadata": {
        "id": "IbblNpiq5QC5",
        "colab_type": "text"
      },
      "cell_type": "markdown",
      "source": [
        "**Learning: An example showing accessing elements in a list, by skipping periodically**"
      ]
    },
    {
      "metadata": {
        "id": "PzKK2Whf55yC",
        "colab_type": "text"
      },
      "cell_type": "markdown",
      "source": [
        "**5)**"
      ]
    },
    {
      "metadata": {
        "id": "CP_iJPnwZM4k",
        "colab_type": "code",
        "colab": {}
      },
      "cell_type": "code",
      "source": [
        "someList=['l','i','s','t']"
      ],
      "execution_count": 0,
      "outputs": []
    },
    {
      "metadata": {
        "id": "sh7OHX3I10A2",
        "colab_type": "code",
        "colab": {}
      },
      "cell_type": "code",
      "source": [
        "someList[0]='m'"
      ],
      "execution_count": 0,
      "outputs": []
    },
    {
      "metadata": {
        "id": "_NmfsJzo2Ac5",
        "colab_type": "code",
        "colab": {}
      },
      "cell_type": "code",
      "source": [
        "someList"
      ],
      "execution_count": 0,
      "outputs": []
    },
    {
      "metadata": {
        "id": "E4n0owbn6FdV",
        "colab_type": "text"
      },
      "cell_type": "markdown",
      "source": [
        "**Learning: This shows that lists are mutable**"
      ]
    },
    {
      "metadata": {
        "id": "Jg3MQaRT1mux",
        "colab_type": "code",
        "colab": {}
      },
      "cell_type": "code",
      "source": [
        "someStr='list'"
      ],
      "execution_count": 0,
      "outputs": []
    },
    {
      "metadata": {
        "id": "JlL6HwP-1v_P",
        "colab_type": "code",
        "colab": {}
      },
      "cell_type": "code",
      "source": [
        "#Lets try 'list' to 'mist' for this string. Should work just the same for string? Why not?\n",
        "someStr[0]='m'"
      ],
      "execution_count": 0,
      "outputs": []
    },
    {
      "metadata": {
        "id": "2glKG4sb2VpH",
        "colab_type": "text"
      },
      "cell_type": "markdown",
      "source": [
        "**6)**"
      ]
    },
    {
      "metadata": {
        "id": "FGNEd6ym6W85",
        "colab_type": "text"
      },
      "cell_type": "markdown",
      "source": [
        "**Now for some list functions. Lets try using the 'append' and 'extend' function. Try other function such as 'pop','insert' etc as well**"
      ]
    },
    {
      "metadata": {
        "id": "l1eC1_NU2WdF",
        "colab_type": "code",
        "colab": {}
      },
      "cell_type": "code",
      "source": [
        "appendOrExtend=['a','b']"
      ],
      "execution_count": 0,
      "outputs": []
    },
    {
      "metadata": {
        "id": "AeIj449E2Wv8",
        "colab_type": "code",
        "colab": {}
      },
      "cell_type": "code",
      "source": [
        "appendOrExtend.append([1,2,3])"
      ],
      "execution_count": 0,
      "outputs": []
    },
    {
      "metadata": {
        "id": "ryghfqyt2W-Z",
        "colab_type": "code",
        "colab": {}
      },
      "cell_type": "code",
      "source": [
        "appendOrExtend"
      ],
      "execution_count": 0,
      "outputs": []
    },
    {
      "metadata": {
        "id": "MrwHomml3SH3",
        "colab_type": "code",
        "colab": {}
      },
      "cell_type": "code",
      "source": [
        "#Lets try the extend function instead\n",
        "ExtendOrAppend=['a','b']\n",
        "ExtendOrAppend.extend([1,2,3])"
      ],
      "execution_count": 0,
      "outputs": []
    },
    {
      "metadata": {
        "id": "SiYbOUeA3iDv",
        "colab_type": "code",
        "colab": {}
      },
      "cell_type": "code",
      "source": [
        "ExtendOrAppend"
      ],
      "execution_count": 0,
      "outputs": []
    },
    {
      "metadata": {
        "id": "1np_7ifx4LFd",
        "colab_type": "code",
        "colab": {}
      },
      "cell_type": "code",
      "source": [
        "#Why false?\n",
        "appendOrExtend==ExtendOrAppend"
      ],
      "execution_count": 0,
      "outputs": []
    },
    {
      "metadata": {
        "id": "d7aee28M6gpm",
        "colab_type": "text"
      },
      "cell_type": "markdown",
      "source": [
        "**Learning: This shows that 'append' and 'extend' functions aren't to be confused similar or confused with each other.**"
      ]
    },
    {
      "metadata": {
        "id": "gGS6Xa7f6wHa",
        "colab_type": "text"
      },
      "cell_type": "markdown",
      "source": [
        "**7)**"
      ]
    },
    {
      "metadata": {
        "id": "4-gcTfLHmHVb",
        "colab_type": "code",
        "colab": {}
      },
      "cell_type": "code",
      "source": [
        "listToArray=[[1,2,3],[4,5,6]]"
      ],
      "execution_count": 0,
      "outputs": []
    },
    {
      "metadata": {
        "id": "lyt0R3WI66P-",
        "colab_type": "text"
      },
      "cell_type": "markdown",
      "source": [
        "**Converting the list to a numpy array**"
      ]
    },
    {
      "metadata": {
        "id": "UKGgMSdemZyY",
        "colab_type": "code",
        "colab": {}
      },
      "cell_type": "code",
      "source": [
        "arrayAfterConversion=np.asarray(listToArray) #how is this different from np.array? Explore the answer."
      ],
      "execution_count": 0,
      "outputs": []
    },
    {
      "metadata": {
        "id": "OARXc1Fa7FaV",
        "colab_type": "text"
      },
      "cell_type": "markdown",
      "source": [
        "**8)**"
      ]
    },
    {
      "metadata": {
        "id": "OvWN42FJoigE",
        "colab_type": "code",
        "colab": {}
      },
      "cell_type": "code",
      "source": [
        "bmi=np.array([20.34,21.56,24.32,23.12,20.54])"
      ],
      "execution_count": 0,
      "outputs": []
    },
    {
      "metadata": {
        "id": "KF2AEhO7pKoa",
        "colab_type": "code",
        "colab": {}
      },
      "cell_type": "code",
      "source": [
        "bmiTruth= bmi>23#This is called subsetting."
      ],
      "execution_count": 0,
      "outputs": []
    },
    {
      "metadata": {
        "id": "fO_IEKnaox2e",
        "colab_type": "code",
        "colab": {}
      },
      "cell_type": "code",
      "source": [
        "# Display values that satisfies the Truth condition above\n",
        "bmi[bmiTruth]"
      ],
      "execution_count": 0,
      "outputs": []
    },
    {
      "metadata": {
        "id": "GysnUm-67T7Y",
        "colab_type": "text"
      },
      "cell_type": "markdown",
      "source": [
        "**Learning: The inner workings of a search that we perform on a numpy array**"
      ]
    },
    {
      "metadata": {
        "id": "N3vUeYRH7nLo",
        "colab_type": "text"
      },
      "cell_type": "markdown",
      "source": [
        "**9)**"
      ]
    },
    {
      "metadata": {
        "id": "FdGvBRyRp6qE",
        "colab_type": "text"
      },
      "cell_type": "markdown",
      "source": [
        "### Numpy: Performing axis related operaions"
      ]
    },
    {
      "metadata": {
        "id": "v65Oflfnp74B",
        "colab_type": "code",
        "colab": {}
      },
      "cell_type": "code",
      "source": [
        "axisOperations=np.array([[1,2,3],[10,20,30]])"
      ],
      "execution_count": 0,
      "outputs": []
    },
    {
      "metadata": {
        "id": "CEiYpLZBqNJ_",
        "colab_type": "code",
        "colab": {}
      },
      "cell_type": "code",
      "source": [
        "# shape gives the tuple in someTuple=(row,column) format i.e. someTuple[0] represents rows; someTuple[1] represents cols\n",
        "axisOperations.shape"
      ],
      "execution_count": 0,
      "outputs": []
    },
    {
      "metadata": {
        "id": "fDSmNROf8ARu",
        "colab_type": "text"
      },
      "cell_type": "markdown",
      "source": [
        "** Sum the above array across all rows; syntax <yourArray>.sum(<axisToCollapse>). Answer below**"
      ]
    },
    {
      "metadata": {
        "id": "HMHjWivVqtFY",
        "colab_type": "code",
        "colab": {}
      },
      "cell_type": "code",
      "source": [
        "axisOperations.sum(axis=0)"
      ],
      "execution_count": 0,
      "outputs": []
    },
    {
      "metadata": {
        "id": "joP4yDvhsDdU",
        "colab_type": "text"
      },
      "cell_type": "markdown",
      "source": [
        "**Try suming the above array across all columns: syntax <yourArray>.sum(<axisToCollapse>). Answer below**"
      ]
    },
    {
      "metadata": {
        "id": "gx4fbrAOsZt8",
        "colab_type": "code",
        "colab": {}
      },
      "cell_type": "code",
      "source": [
        "axisOperations.sum(axis=1)"
      ],
      "execution_count": 0,
      "outputs": []
    },
    {
      "metadata": {
        "id": "rrwAMUDO8LvA",
        "colab_type": "text"
      },
      "cell_type": "markdown",
      "source": [
        "**10)**"
      ]
    },
    {
      "metadata": {
        "id": "NBmHCTiTv4OZ",
        "colab_type": "text"
      },
      "cell_type": "markdown",
      "source": [
        "### Numpy: Broadcasting"
      ]
    },
    {
      "metadata": {
        "id": "PJabjjlxv7n4",
        "colab_type": "code",
        "colab": {}
      },
      "cell_type": "code",
      "source": [
        "#Guess the output? You're subtracting a 1*1 array from a 2*2 array\n",
        "differentArrayShapes=np.array([[1,1],[3,3]])-np.array([1,1])"
      ],
      "execution_count": 0,
      "outputs": []
    },
    {
      "metadata": {
        "id": "TTdWzg3QwV7M",
        "colab_type": "code",
        "colab": {}
      },
      "cell_type": "code",
      "source": [
        "differentArrayShapes"
      ],
      "execution_count": 0,
      "outputs": []
    },
    {
      "metadata": {
        "id": "GE4YpxBE8UHk",
        "colab_type": "text"
      },
      "cell_type": "markdown",
      "source": [
        "**11)**"
      ]
    },
    {
      "metadata": {
        "id": "RplSrJ9O2jCJ",
        "colab_type": "text"
      },
      "cell_type": "markdown",
      "source": [
        "## Conditionals: if, while, for"
      ]
    },
    {
      "metadata": {
        "id": "u2mFGk0wWJMn",
        "colab_type": "text"
      },
      "cell_type": "markdown",
      "source": [
        "### If"
      ]
    },
    {
      "metadata": {
        "id": "5AojP0PD2ta_",
        "colab_type": "code",
        "colab": {}
      },
      "cell_type": "code",
      "source": [
        "x=2\n",
        "#Exercise - A matter of taste: Can be written either this way...\n",
        "\n",
        "if x==1:\n",
        "  print('a')\n",
        "  print('b')\n",
        "elif x==2:\n",
        "  print('α')\n",
        "  print('β')\n",
        "elif x==3:\n",
        "  print('A')\n",
        "  print('B')"
      ],
      "execution_count": 0,
      "outputs": []
    },
    {
      "metadata": {
        "id": "EYYjjA8J2tyy",
        "colab_type": "code",
        "colab": {}
      },
      "cell_type": "code",
      "source": [
        "#Exercise : ..or..\n",
        "if x==1:    print('a');  print('b')\n",
        "elif x==2:  print('α');  print('β')\n",
        "elif x==3:  print('A');  print('B')\n"
      ],
      "execution_count": 0,
      "outputs": []
    },
    {
      "metadata": {
        "id": "MuhXSbA-2t6y",
        "colab_type": "code",
        "colab": {}
      },
      "cell_type": "code",
      "source": [
        "#Conditional expression: Syntax: <expression1> if <conditional_expr> else <expression2>; \n",
        "a=1\n",
        "b=2\n",
        "myVal=a if a>b else b"
      ],
      "execution_count": 0,
      "outputs": []
    },
    {
      "metadata": {
        "id": "cGd9JYHT2uCD",
        "colab_type": "code",
        "colab": {}
      },
      "cell_type": "code",
      "source": [
        "myVal"
      ],
      "execution_count": 0,
      "outputs": []
    },
    {
      "metadata": {
        "id": "3GV58LZs8dF2",
        "colab_type": "text"
      },
      "cell_type": "markdown",
      "source": [
        "**11)**"
      ]
    },
    {
      "metadata": {
        "id": "ZoILqXcpj0K3",
        "colab_type": "text"
      },
      "cell_type": "markdown",
      "source": [
        "### For loop; Iterators:"
      ]
    },
    {
      "metadata": {
        "id": "T5yiXh1og0b2",
        "colab_type": "code",
        "colab": {}
      },
      "cell_type": "code",
      "source": [
        "somestr='Machine Learning'"
      ],
      "execution_count": 0,
      "outputs": []
    },
    {
      "metadata": {
        "id": "0TDhhaeMg4sD",
        "colab_type": "code",
        "colab": {}
      },
      "cell_type": "code",
      "source": [
        "#EXERCISE: The statement below runs into an error. The reason is? Please try correcting it.\n",
        "for i in len(somestr):\n",
        "  print(somestr[i])"
      ],
      "execution_count": 0,
      "outputs": []
    },
    {
      "metadata": {
        "id": "rczWMJcqhQPP",
        "colab_type": "code",
        "colab": {}
      },
      "cell_type": "code",
      "source": [
        "#EXERCISE: Find an easier way of printing the above? Why and how does this work?\n",
        "for k in somestr:\n",
        "  print(k)"
      ],
      "execution_count": 0,
      "outputs": []
    },
    {
      "metadata": {
        "id": "n8w4HDUBqwNY",
        "colab_type": "text"
      },
      "cell_type": "markdown",
      "source": [
        "# Programs ( Basic Types and Constructs)"
      ]
    },
    {
      "metadata": {
        "id": "h6dgsAQ0qz5Q",
        "colab_type": "text"
      },
      "cell_type": "markdown",
      "source": [
        "## Programs using While/For loop (with if/else):\n",
        "\n",
        "**Problem1**: If we list all the natural numbers below 10 that are multiples of 3 or 5, we get 3, 5, 6 and 9. The sum of these multiples is 23.\n",
        "\n",
        "Find the sum of all the multiples of 3 or 5 below 1000."
      ]
    },
    {
      "metadata": {
        "id": "IinIUA-hsQ8y",
        "colab_type": "code",
        "colab": {}
      },
      "cell_type": "code",
      "source": [
        "### Using a while loop\n",
        "LIMIT = 1000\n",
        "total = 0\n",
        "n = 1\n",
        "while n < LIMIT:\n",
        "    if n % 3 == 0 or n % 5 == 0:\n",
        "        total += n\n",
        "    n += 1\n",
        "print(total)"
      ],
      "execution_count": 0,
      "outputs": []
    },
    {
      "metadata": {
        "id": "H1yKEN3qsZnV",
        "colab_type": "code",
        "colab": {}
      },
      "cell_type": "code",
      "source": [
        "### Using range() and for loop\n",
        "LIMIT = 1000\n",
        "total = 0\n",
        "for n in range(LIMIT):\n",
        "    if n % 3 == 0 or n % 5 == 0:\n",
        "        total += n\n",
        "print(total)"
      ],
      "execution_count": 0,
      "outputs": []
    },
    {
      "metadata": {
        "id": "4C-cQE05sZ16",
        "colab_type": "text"
      },
      "cell_type": "markdown",
      "source": [
        "**Problem2**: Each new term in the Fibonacci sequence is generated by adding the previous two terms. By starting with 1 and 2, the first 10 terms will be:\n",
        "\n",
        "1, 2, 3, 5, 8, 13, 21, 34, 55, 89, ...\n",
        "\n",
        "By considering the terms in the Fibonacci sequence whose values do not exceed four million, find the sum of the even-valued terms."
      ]
    },
    {
      "metadata": {
        "id": "1RASYaBqzEUP",
        "colab_type": "code",
        "colab": {}
      },
      "cell_type": "code",
      "source": [
        "### Simple while loop\n",
        "LIMIT = 4000000\n",
        "a, b = 0, 1\n",
        "answer = 0\n",
        "while a < LIMIT:\n",
        "    if a % 2 == 0:\n",
        "        answer += a\n",
        "    a, b = b, a + b\n",
        "print(answer)"
      ],
      "execution_count": 0,
      "outputs": []
    },
    {
      "metadata": {
        "id": "QqxiWzIfzK7z",
        "colab_type": "text"
      },
      "cell_type": "markdown",
      "source": [
        "**Problem3**:**FizzBuzz** \n",
        "This is a game that has gained in popularity as a programming assignment to weed out non-programmers during job interviews. The object of the assignment is less about solving it correctly according to the below rules and more about showing the programmer understands basic, necessary tools such as if-/else-statements and loops. The rules of FizzBuzz are as follows:\n",
        "\n",
        "For numbers 1 through 100,\n",
        "\n",
        "if the number is divisible by 3 print Fizz;\n",
        "if the number is divisible by 5 print Buzz;\n",
        "if the number is divisible by 3 and 5 (15) print FizzBuzz;\n",
        "else, print the number."
      ]
    },
    {
      "metadata": {
        "id": "mMo0xX0k5ICA",
        "colab_type": "code",
        "colab": {}
      },
      "cell_type": "code",
      "source": [
        "### First a wrong code to show one common error many students \n",
        "### (and too many experienced programmers) make\n",
        "LIMIT = 101\n",
        "for n in range(1, LIMIT):\n",
        "    if n % 3 == 0: \n",
        "        print(\"FIZZ\")\n",
        "    elif n % 5 == 0:\n",
        "        print(\"BUZZ\")\n",
        "    elif n % 3 == 0 and n % 15 == 0:\n",
        "        print(\"FIZZBUZZ\")\n",
        "    else:\n",
        "        print(n)"
      ],
      "execution_count": 0,
      "outputs": []
    },
    {
      "metadata": {
        "id": "qH8hAV693pL_",
        "colab_type": "code",
        "colab": {}
      },
      "cell_type": "code",
      "source": [
        "# CORRECT THE CODE ABOVE USING SIMPLE FOR-LOOP/FUNCTION \n",
        "##YOUR CODE HERE##"
      ],
      "execution_count": 0,
      "outputs": []
    },
    {
      "metadata": {
        "id": "KQs_GyvJ4tCc",
        "colab_type": "text"
      },
      "cell_type": "markdown",
      "source": [
        "**Problem4: Primes!**\n",
        "By listing the first six prime numbers: 2, 3, 5, 7, 11, and 13, we can see that the 6th prime is 13.\n",
        "\n",
        "What is the  10,001𝑡ℎ  prime number?"
      ]
    },
    {
      "metadata": {
        "id": "Fiu7Pb-J4yuC",
        "colab_type": "code",
        "colab": {}
      },
      "cell_type": "code",
      "source": [
        "## Use the basic constructs learnt above to write this one.\n",
        "##YOUR CODE HERE"
      ],
      "execution_count": 0,
      "outputs": []
    },
    {
      "metadata": {
        "id": "zZVe_GHptlnX",
        "colab_type": "text"
      },
      "cell_type": "markdown",
      "source": [
        "### Please answer the questions below to complete the experiment:"
      ]
    },
    {
      "metadata": {
        "id": "ZU_7dke_nBKa",
        "colab_type": "code",
        "colab": {}
      },
      "cell_type": "code",
      "source": [
        "#@title How would you access the 2nd row, 2nd column of a numpy array? { run: \"auto\", form-width: \"500px\", display-mode: \"form\" }\n",
        "Answer = \"fruits[1,2]\" #@param [\"fruits[1,2]\", \"fruits[2,2]\", \"fruits(1,2)\",\"fruits[1,1]\"]\n"
      ],
      "execution_count": 0,
      "outputs": []
    },
    {
      "metadata": {
        "id": "3lQYAiaz49FF",
        "colab_type": "code",
        "colab": {}
      },
      "cell_type": "code",
      "source": [
        "#@title How was the experiment? { run: \"auto\", form-width: \"500px\", display-mode: \"form\" }\n",
        "Complexity = \"\" #@param [\"Too Simple, I am wasting time\", \"Good, But Not Challenging for me\", \"Good and Challenging for me\", \"Was Tough, but I did it\", \"Too Difficult for me\"]\n"
      ],
      "execution_count": 0,
      "outputs": []
    },
    {
      "metadata": {
        "id": "NYo4h-TTtxfJ",
        "colab_type": "code",
        "colab": {}
      },
      "cell_type": "code",
      "source": [
        "#@title If it was very easy, what more you would have liked to have been added? If it was very difficult, what would you have liked to have been removed? { run: \"auto\", display-mode: \"form\" }\n",
        "Additional = \"\" #@param {type:\"string\"}"
      ],
      "execution_count": 0,
      "outputs": []
    },
    {
      "metadata": {
        "id": "wc0k-1C_t3hl",
        "colab_type": "code",
        "colab": {}
      },
      "cell_type": "code",
      "source": [
        "#@title Can you identify the concepts from the lecture which this experiment covered? { run: \"auto\", vertical-output: true, display-mode: \"form\" }\n",
        "Concepts = \"\" #@param [\"Yes\", \"No\"]"
      ],
      "execution_count": 0,
      "outputs": []
    },
    {
      "metadata": {
        "id": "Vrhi9FqHt502",
        "colab_type": "code",
        "cellView": "form",
        "colab": {}
      },
      "cell_type": "code",
      "source": [
        "#@title Run this cell to submit your notebook for grading { vertical-output: true }\n",
        "try:\n",
        "  if submission_id:\n",
        "      return_id = submit_notebook()\n",
        "      if return_id : submission_id =return_id\n",
        "  else:\n",
        "      print(\"Please complete the setup first.\")\n",
        "except NameError:\n",
        "  print (\"Please complete the setup first.\")"
      ],
      "execution_count": 0,
      "outputs": []
    },
    {
      "metadata": {
        "id": "1Wm83QAct9fb",
        "colab_type": "code",
        "colab": {}
      },
      "cell_type": "code",
      "source": [
        ""
      ],
      "execution_count": 0,
      "outputs": []
    }
  ]
}